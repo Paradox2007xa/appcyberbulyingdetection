{
 "cells": [
  {
   "cell_type": "markdown",
   "metadata": {},
   "source": [
    "# Importing Libraries"
   ]
  },
  {
   "cell_type": "code",
   "execution_count": 374,
   "metadata": {},
   "outputs": [],
   "source": [
    "import numpy as np\n",
    "import matplotlib.pyplot as plt\n",
    "import pandas as pd\n"
   ]
  },
  {
   "cell_type": "markdown",
   "metadata": {},
   "source": [
    "# Load the dataset"
   ]
  },
  {
   "cell_type": "code",
   "execution_count": 375,
   "metadata": {},
   "outputs": [
    {
     "data": {
      "text/plain": "                                         Description  Category\n0                                          beautiful         0\n1  so what? \\r\\n\\r\\nwhat should i do? then promis...         0\n2  WTF! \\r\\n\\r\\nu fckin faggot ass mutha fcker u ...         0\n3       Great, I'm glad we managed to work this out.         0\n4  Hi! I am back again!\\r\\nLast warning!\\r\\nStop ...         0",
      "text/html": "<div>\n<style scoped>\n    .dataframe tbody tr th:only-of-type {\n        vertical-align: middle;\n    }\n\n    .dataframe tbody tr th {\n        vertical-align: top;\n    }\n\n    .dataframe thead th {\n        text-align: right;\n    }\n</style>\n<table border=\"1\" class=\"dataframe\">\n  <thead>\n    <tr style=\"text-align: right;\">\n      <th></th>\n      <th>Description</th>\n      <th>Category</th>\n    </tr>\n  </thead>\n  <tbody>\n    <tr>\n      <th>0</th>\n      <td>beautiful</td>\n      <td>0</td>\n    </tr>\n    <tr>\n      <th>1</th>\n      <td>so what? \\r\\n\\r\\nwhat should i do? then promis...</td>\n      <td>0</td>\n    </tr>\n    <tr>\n      <th>2</th>\n      <td>WTF! \\r\\n\\r\\nu fckin faggot ass mutha fcker u ...</td>\n      <td>0</td>\n    </tr>\n    <tr>\n      <th>3</th>\n      <td>Great, I'm glad we managed to work this out.</td>\n      <td>0</td>\n    </tr>\n    <tr>\n      <th>4</th>\n      <td>Hi! I am back again!\\r\\nLast warning!\\r\\nStop ...</td>\n      <td>0</td>\n    </tr>\n  </tbody>\n</table>\n</div>"
     },
     "execution_count": 375,
     "metadata": {},
     "output_type": "execute_result"
    }
   ],
   "source": [
    "dataset = pd.read_csv(\"cyberbullyingchatx.csv\")\n",
    "dataset.head()"
   ]
  },
  {
   "cell_type": "code",
   "execution_count": 376,
   "metadata": {},
   "outputs": [
    {
     "data": {
      "text/plain": "(831, 2)"
     },
     "execution_count": 376,
     "metadata": {},
     "output_type": "execute_result"
    }
   ],
   "source": [
    "dataset.shape"
   ]
  },
  {
   "cell_type": "code",
   "execution_count": 377,
   "metadata": {},
   "outputs": [
    {
     "data": {
      "text/plain": "831"
     },
     "execution_count": 377,
     "metadata": {},
     "output_type": "execute_result"
    }
   ],
   "source": [
    "len(dataset)"
   ]
  },
  {
   "cell_type": "code",
   "execution_count": 378,
   "metadata": {},
   "outputs": [
    {
     "data": {
      "text/plain": "Index(['Description', 'Category'], dtype='object')"
     },
     "execution_count": 378,
     "metadata": {},
     "output_type": "execute_result"
    }
   ],
   "source": [
    "dataset.columns"
   ]
  },
  {
   "cell_type": "code",
   "execution_count": 379,
   "metadata": {},
   "outputs": [
    {
     "data": {
      "text/plain": "Description    object\nCategory        int64\ndtype: object"
     },
     "execution_count": 379,
     "metadata": {},
     "output_type": "execute_result"
    }
   ],
   "source": [
    "dataset.dtypes"
   ]
  },
  {
   "cell_type": "code",
   "execution_count": 380,
   "metadata": {},
   "outputs": [
    {
     "name": "stderr",
     "output_type": "stream",
     "text": [
      "c:\\users\\asus\\pycharmprojects\\cyberbullyingdetection\\venv\\lib\\site-packages\\seaborn\\_decorators.py:36: FutureWarning: Pass the following variable as a keyword arg: x. From version 0.12, the only valid positional argument will be `data`, and passing other arguments without an explicit keyword will result in an error or misinterpretation.\n",
      "  warnings.warn(\n"
     ]
    },
    {
     "data": {
      "text/plain": "<AxesSubplot:xlabel='Category', ylabel='count'>"
     },
     "execution_count": 380,
     "metadata": {},
     "output_type": "execute_result"
    },
    {
     "data": {
      "text/plain": "<Figure size 432x288 with 1 Axes>",
      "image/png": "[encoded data removed]"
     },
     "metadata": {
      "needs_background": "light"
     },
     "output_type": "display_data"
    }
   ],
   "source": [
    "import seaborn as sns\n",
    "sns.countplot('Category',data=dataset)"
   ]
  },
  {
   "cell_type": "code",
   "execution_count": 381,
   "metadata": {},
   "outputs": [
    {
     "data": {
      "text/plain": "Description    0\nCategory       0\ndtype: int64"
     },
     "execution_count": 381,
     "metadata": {},
     "output_type": "execute_result"
    }
   ],
   "source": [
    "dataset.isnull().sum()"
   ]
  },
  {
   "cell_type": "markdown",
   "metadata": {},
   "source": [
    "# Cleaning the text"
   ]
  },
  {
   "cell_type": "code",
   "execution_count": 382,
   "metadata": {},
   "outputs": [
    {
     "name": "stderr",
     "output_type": "stream",
     "text": [
      "[nltk_data] Downloading package stopwords to\n",
      "[nltk_data]     C:\\Users\\ASUS\\AppData\\Roaming\\nltk_data...\n",
      "[nltk_data]   Package stopwords is already up-to-date!\n"
     ]
    }
   ],
   "source": [
    "import re\n",
    "import nltk\n",
    "nltk.download('stopwords')\n",
    "from nltk.corpus import stopwords\n",
    "from nltk.stem.porter import PorterStemmer"
   ]
  },
  {
   "cell_type": "code",
   "execution_count": 383,
   "metadata": {},
   "outputs": [],
   "source": [
    "corpus = []\n",
    "for i in range(0,831):   #we have 2217 chats\n",
    "    chat = re.sub('[^a-zA-Z]',\" \",dataset[\"Description\"][i]) #sub can replace anything in a text with anything #replace punctuation\n",
    "    chat = chat.lower()\n",
    "    chat = chat.split()\n",
    "    pe = PorterStemmer()\n",
    "    all_stopword = stopwords.words('english')\n",
    "    type(all_stopword)\n",
    "    all_stopword.remove('not')\n",
    "    chat = [pe.stem(word) for word in chat if not word in set(all_stopword)]\n",
    "                ## for every word in chats we check if the word not in stopword if yes then\n",
    "                ## using porterstemmer we apply stemming if no then we drop the word\n",
    "    chat = \" \".join(chat)\n",
    "    corpus.append(chat)"
   ]
  },
  {
   "cell_type": "code",
   "execution_count": 384,
   "metadata": {},
   "outputs": [
    {
     "data": {
      "text/plain": "['beauti',\n 'promis never edit wikipedia get unblock',\n 'wtf u fckin faggot ass mutha fcker u ju delt work gay school wtf ur promblem u gay child molest',\n 'great glad manag work',\n 'hi back last warn stop undo edit die',\n 'stink suck hangingcurv blueboy even admin block ban us alway come back new account destroy wikipedia oh wait not admin anymor seem wonder happen hahaha',\n 'crash rule rule wed crash creat delet januari total unencycloped wed crasher articl creat link rule extern site could take rule wed crash wp drv support',\n 'wikipedia request arbitr husnock hello arbitr case comment open wikipedia request arbitr husnock pleas add evid may wish arbitr consid evid sub page wikipedia request arbitr husnock evid may also contribut case workshop sub page wikipedia request arbitr husnock workshop behalf arbitr committe eagl need help',\n 'want speak manag wikipedia sir thoma hate say say world wikipedia see true color tommi ugli gay like',\n 'oh wow thank defend guy delet everyth wrote would feel spent hour research jerkoff guy delet dont care must hate im jewish must nazi',\n 'haha moron told shut get unblock gonna ask perman ban ip use account get warn rather call moron anyway quit bangin wall rofl got ban lmao make breakfast read ancient persia kid get come bro um sandstein problem mean twenti realli matter realli anyth offens admin troll pleas stop delet comment realli realli not way much attent brother argu man made stupid decis twenti tri make see easier way ban tell behav think one confus perhap cooki come man realli',\n 'leav michael keyo alon goat die cheer ur school farm school mellon farm live africa',\n 'stupid stupid anyon agre',\n 'haplogroup l lineag rel infrequ less throughout europ except iberia frequenc high percent report lineag previous associ african slave trade howev analysi gonzalez et al reveal l lineag match northwest african l lineag rather contemporari sub saharan l lineag author suggest pattern indic sub saharan l lineag enter iberia prehistor time rather recent period haplogroup l lineag present low frequenc eastern europ though high divers african mtdna lineag detect lineag accumul enough mutat europ form monophylet cluster malyarchuk et al detect two monophylet cluster l b l b russian estim age greater year malyarchuk et al identifi african l b l l b l clade slavic popul low frequenc l b l b l match west african popul indic lineag probabl enter europ iberia one lineag l appear much older indic may enter europ prehistor time clade possibl relat l clade identifi individu ashkenazi heritag franc germani poland romania russia l lineag widespread throughout africa result exact origin lineag uncertain',\n 'fair enough understand opinion thought must say pokemon charact fictiou charact object articl flood ebay certainli appear far less notabl facet build univers see mean regard tenni court though etc',\n 'wtf temp block',\n 'seem like happen lot articl link main page late stop peopl edit templat articl day',\n 'wiki wiki help import project offic',\n 'one video link answer censor togeth rest kinda hard take wikipedia serious day',\n 'ad pictur ad pictur maino took worri infring someon copyright',\n 'hey hamster rodent wikipedia human part cemal gursel pictur tickl fanni mummi',\n 'u fuck wanker fucken pakistan idepend state pakistan infact pakistani real indian muslim faith conert arab hate peopl attempt leach india majest histori pakistani cant get food laguag urdu least hindi ident land india given much land avoid conflict ad want take away ancient civilis enough indu valley indian land occupi indian peopl god gave india indian not pakistani rememb pakistan indian land kashmir jammu',\n 'shall pleas dirti doubl nigger wikifag',\n 'dear snigbrook day number stab knife head way prepar horribl horribl thing p fuck aspi hahaha',\n 'talk googi man got simpl word shut let see guy spend time sit comput edit wikipedia name googi man say think bigger think better aint noth stop call rogu edit corniest thing ever heard know mad made fun replac horribl terribl ugli pictur donni basebal call rogu biggest outrag ever seen pleas delet pictur us go blind would rather pictur page worst pictur histori world page ever delet comment talk page ever right express opinion villian hostag stop reign king wikipedia go take pictur someth stay outta way',\n 'redirect talk list world wrestl entertain alumni',\n 'protect edit request octob cordial request go fuck',\n 'second superracist shit black creat thing evth creat white refer btw',\n 'thank lucki see wikipedia lol contribu sport lot that sad guy delet teeterdil articl play mani sport thank widereceiv',\n 'copyright afraid remov contribut suraj mal copi past websit wikipedia take copyright violat serious legal implic pleas see wp copyright thank',\n 'demon possess pedophil pedophil alon enough',\n 'hello hello anti abortionist christian pope bastard priest abus children bush dick dwain bastard catholic fake socialist long',\n 'request handl',\n 'first three reject hand follow half dozen similarli ditch could produc anoth fukkin half dozen matter pure po paid scumbag would',\n 'still understand mcelit block person racist agenda pleas unblock',\n 'bore sens humor lemonparti org site',\n 'fuck u pleas',\n 'fat bastard fat care block wikipedia admin rape babi',\n 'http www fireflysun com book wikipedia user page php lie crook ass bitch result lobbi state rep senat congressmen other shut bastard go way suprem court kiss ass',\n 'idiot everybodi know page inund complaint peopl harrass delet thing knopw noth',\n 'intern jew world foremost problem absolut open sourc un copyright book profound notorieti book de facto open sourc un copyright fair use free distribut million peopl last centuri read book super geniu pioneer revolut sponsor book anyon els see go wikipedia anyon disgust concert effort censorship anyon see pattern regard certain topic censorship curiou ask believ freedom speech allow url http www solargener com pdf theinternationaljew pdf intern jew bring arbitr link ad articl without delet ever wast time cabal bloodi tooth nail struggl get addit wikipedia someon pleas shine illumin p',\n 'vandal ass text vandal check talk page clasic market talk bulgarian greek editor would favor denial macedonian fuck whole wikipedia hell gave right write histori talk feel',\n 'sea world sorri mate work kink program current v rc thank let know use inform improv',\n 'lang dialect question problem world not india research cite well',\n 'page move oh okay thank insight',\n 'otara millionair club ghit',\n 'first peopl even take smart ass joke favourit charact mind screw page peopl hate ginyu forc cui page even went bother shorten descript make easier us huh pointless expect immatur villain hater like fact page origin ginyu forc charact list wonder came along took away',\n 'start quot damn cover instead messag board et tu brute',\n 'fuck iowa idiot real basebal team sign p',\n 'wikistalk sock puppet lay recours not immun stan',\n 'mikhail lebedev year troll page mikhail lebedev meant bad joke ruin scientist reput well privaci mani legitim research pleas delet slander page afd talk page page delet page necessari thank lot',\n 'awesom wa tsv ge na li thank friend go ah ni yv wi ya post get home also spoke paul ah ni ku ta ni relay public unveil ancient tablet schedul along invit public research hear ancient stori told artifact ancient write english ancient dialect follow complet council lodg year post date event may wish come invit de',\n 'fuck head not vandal suck cock ass master talk done mom',\n 'gun confus thought kangaroo allow gun crazi govern wast bunch money buy back',\n 'behaviour unaccept',\n 'kit thank look go replac kit like know want replac kit much detail sure detail better also kit chose look noth except colour wise like new kit think nice actual club kit page',\n 'high effici rifl',\n 'realli not see act immatur klptyzm ignor person tell everyon not like get block one day day reckon klptyzm oh ture',\n 'red userpag skunk talk separ talk link',\n 'god told knotwe key transcend bridg ultim knowledg',\n 'ad detail activ locat not pov especi sourc websit inform remov websit could not use refer articl ad see also list not pov either',\n 'person attack unblock request',\n 'put jacqu far made style edit part time get rest not wikilink mean overus entir articl not need one big blue link',\n 'accus someon repress homsexu valu backward defend attack challeng lie wp rule conduct not god agenda promot reveal lie world not higher truth peac righteous choos righteous repent fag',\n 'irish music profession pleas email question regard celtic music either present histor anyth relat irish music crhylov yahoo com rhi',\n 'chrisch faggot',\n 'hate guy liar hate evil',\n 'nigger nigger everywher',\n 'psychopath echomyron need ban edit wonder wikipedia laugh world psychopath attempt cyber bulli real bulli coward need keyboard tough guy life pathet',\n 'sorri copi past articl mum die within next hour',\n 'u banner tread close probabl fact violat wp outing deal sourc pov whatev polici attempt coi lead ban',\n 'stick warn ars fuck gaywad read wp game fuck somewher els',\n 'go ruin someon els articl',\n 'like cock nigger nigger nigger nigger nigger nigger nigger nigger nigger nigger nigger nigger nigger nigger nigger nigger nigger nigger nigger nigger nigger nigger nigger nigger nigger nigger nigger nigger nigger nigger nigger nigger nigger nigger nigger nigger nigger nigger nigger nigger nigger nigger nigger nigger nigger nigger nigger nigger nigger nigger nigger nigger nigger nigger nigger nigger nigger nigger nigger nigger nigger nigger nigger nigger nigger nigger nigger nigger nigger nigger nigger nigger nigger nigger nigger nigger nigger nigger nigger nigger nigger nigger nigger nigger nigger nigger nigger nigger nigger nigger nigger nigger nigger nigger nigger nigger nigger nigger nigger nigger nigger nigger nigger nigger nigger nigger nigger nigger nigger nigger nigger nigger nigger nigger nigger',\n 'oi wankstain fuck ignor cunt yeah revert arsewip revert lolololol cocksuck',\n 'well use eye read would notic refer page say anyth applic page page not',\n 'screw chri fag life live r mom basement',\n 'apolog must doubl edit ip chang sorri',\n 'get page misandrist scum',\n 'author leav kastrioti alon',\n 'also interest suppos access top secret info vet process sort clearanc extens man unsettl childhood disciplin problem earlier enlist ts clearanc would problemat pull like not ts clearanc info say incorrect wikipedia not truth problem small bit inform persist',\n 'hey cumtast cum tast go',\n 'restor ought articl ought restor origin version year one p rvert kike took',\n 'dirti fuckign nigger stop delet work',\n 'fall birther claim court made clear merit case not yet heard discuss far pure procedur case cover articl got least far thrown one inevit',\n 'construct edit idiot everi kid everi age know santa clau fuck fiction ever sinc first heard santa clau knew fiction parent give delus would laugh face said logic fuck everi kid logic like everi kid abl logic fuck infer fuck santa clau real human univers',\n 'pedro fuck dumbass probabl bulli kid admin tri get back asshol block ppl reaseon delud fag',\n 'last quot suppos get jail free card though not sure bit sophistri came',\n 'max pumpkin own wikipedia max pumpkin own accur not complet list wikihomosexu wikiretard list fall categori user bbb user thoma w big poof user jpgordon user favonian user neiln user beyond ken user wadesimmis user materialscientist feel free add provid bbb lick dick neiln bbb lick dick neiln bbb lick dick neiln bbb lick dick neiln bbb lick dick neiln bbb lick dick neiln bbb lick dick neiln bbb lick dick neiln bbb lick dick neiln bbb lick dick neiln bbb lick dick neiln bbb lick dick neiln bbb lick dick neiln bbb lick dick neiln bbb lick dick neiln bbb lick dick neiln bbb lick dick neiln bbb lick dick neiln bbb lick dick neiln bbb lick dick neiln bbb lick dick neiln bbb lick dick neiln bbb lick dick neiln bbb lick dick neiln bbb lick dick neiln bbb lick dick neiln bbb lick dick neiln bbb lick dick neiln bbb lick dick neiln bbb lick dick neiln bbb lick dick neiln bbb lick dick neiln bbb lick dick neiln bbb lick dick neiln max pumpkin own wikipedia max pumpkin own max pumpkin own wikipedia max pumpkin own accur not complet list wikihomosexu wikiretard list fall categori user bbb user thoma w big poof user jpgordon user favonian user neiln user beyond ken user wadesimmis user materialscientist user beyond ken feel free add provid bbb lick dick neiln bbb lick dick neiln bbb lick dick neiln bbb lick dick neiln bbb lick dick neiln bbb lick dick neiln bbb lick dick neiln bbb lick dick neiln bbb lick dick neiln bbb lick dick neiln bbb lick dick neiln bbb lick dick neiln bbb lick dick neiln bbb lick dick neiln bbb lick dick neiln bbb lick dick neiln bbb lick dick neiln bbb lick dick neiln bbb lick dick neiln bbb lick dick neiln bbb lick dick neiln bbb lick dick neiln bbb lick dick neiln bbb lick dick neiln bbb lick dick neiln bbb lick dick neiln bbb lick dick neiln bbb lick dick neiln bbb lick dick neiln bbb lick dick neiln bbb lick dick neiln bbb lick dick neiln bbb lick dick neiln bbb lick dick neiln max pumpkin own wikipedia max pumpkin own max pumpkin own wikipedia max pumpkin own accur not complet list wikihomosexu wikiretard list fall categori user bbb user thoma w big poof user jpgordon user favonian user neiln user beyond ken user wadesimmis user materialscientist feel free add provid bbb lick dick neiln bbb lick dick neiln bbb lick dick neiln bbb lick dick neiln bbb lick dick neiln bbb lick dick neiln bbb lick dick neiln bbb lick dick neiln bbb lick dick neiln bbb lick dick neiln bbb lick dick neiln bbb lick dick neiln bbb lick dick neiln bbb lick dick neiln bbb lick dick neiln bbb lick dick neiln bbb lick dick neiln b',\n 'dear gilliam piec shizz think know pokemon made pokemon get stolen fraudul fraud game freak hawaii not end love frank miller mwah',\n 'kcb group would like make major edit kenya commerci bank group subsidiari would okay may eat',\n 'wow come reliev flatter',\n 'actual douch',\n 'ahh quot actual go sound wors hey ask',\n 'yay time go work dream laugh retard post stupid warn peopl talk page thank owner',\n 'glad talk would realli appreci know think death steve irwin tim treadwel funni delet page not appropri thing unfortun seem think funni insist keep',\n 'would never know period',\n 'sup crackhead kid user page say fart fuck shit damn ass nigger jew spick kyke lot go fuck like',\n 'may th pleas not add nonsens wikipedia consid vandal would like experi use sandbox thank',\n 'wish delet account go ahead care less would rather spend time real life argu bunch total thickhead claim matur editor frank give damn',\n 'sockpuppet mani time insult vandal current situat',\n 'bongwarrior gotta hate',\n 'block respond lie',\n 'load crap write',\n 'nightstallion wife got fuck nigger babi smell fri chicken',\n 'abrevashun make stuff shorter u f er nswer dat queshton f let august utc',\n 'intent miss point not everi word distinct one function element author origin creativ express otherwis copyright appli preposit coordin conjunct absolut wrong imagin amount energi would take go distanc combin inevit group sympathet wikipedian would make demonstr highli exhaust therefor unlik ask provid one wp rs explicitli state take creativ distinct word sourc materi accept proper paraphras',\n 'skrewdriv net articl compar hitler art nitsch cours hitler rock nitsch cock not sock not dirti enough',\n 'recategoris anon think user accus anon',\n 'fat ass hell block need go hell fag ilovedirtbik',\n 'kiss meee ars like sooo convinc wrote stick stick fat assk',\n 'richard wang man got issu wife tri nice know said denni mom school think sick littl punk use languag like swear fli australia wash dirti mouth soap tire tediou old lectur ceas dirti talk fli australia make learn lesson dare call wife bulli talk page talk denni annihi later cenabe tomorrow apologis cenandor',\n 'well dont stop treat like garbag ill nice',\n 'effect rush safeti check',\n 'still insert minor issu give undu weight pleas stop think might valuabl addit pleas seek view talk page benton view long stand materi far valuabl quibbl book mao unknown stori not revolv around whether soong communist agent not',\n 'ask put facebook contact info peopl check look fair enough want ad check rockin rebel http www facebook com rockin rebel',\n 'februari utc immateri sign name use evad block',\n 'stop wank much rememb lotion prevent friction burn',\n 'phrase look play like puppet string ho ho ho hope enjoy new found infami stuck webmast lordi cousin cu l er',\n 'noth dude end absolut noth go end bro',\n 'pleas make dreamguy tool stop mess user page clean good faith asshol keep put back',\n 'ventur speak pod well state quit categor cold day hell film mask make way guy fawk articl reason alreadi discuss death elsewher symptomat deeper malais among mani wikipedia editor struggl illus link must symmetr sure link guy fawk v vendetta articl help give reader use background throw light film theme film fuck fawk legaci even strike exampl recal moor murder articl one time list everi pop song ever even tangenti refer murder time peopl grew realis project produc children encyclopedia popular trivia least ought not fatuorum',\n 'bernank show sign higher iq action csaus present global crisi high ee see lassi ethi opia',\n 'question page blindli pro wikipedia oh right hypocrit self righteous ftw',\n 'weak sens much weak barnstar weak would grant daili nay thrice daili breakfast lunch tea never mind biggest question right greec russian chines trojan hors slipperi eel revert type',\n 'well unfortun user block rr ad articl talk page could add word appreci thank',\n 'tag good faith tag say articl need work opinion articl lack fact support adequ encycloped entri look archiv see mani other agre wit frustrat npov remov descript content think need work would opinion opinion similarli bias cohort count mine not includ tag articl obvious disput year point keep tag rampant censorship mastcel need stop believ need consensu put tag back page histori proof page let new neutral edit stay minut major problem far wikipedia concern abus intend use tag goe back fact page hotli disput opinion other not know fact irrelev',\n 'comment marriag conveni cheryl racist ashley gay highli inappropri site opinion matter encyclopedia not blog',\n 'idiot',\n 'persever mention problem persever fanci way admit kind bag sometim mean let silli go sometim man know biggest persever n l sturb tion',\n 'ye right tw hero got woman take care instead revert vandal obscur wiki page loser serious',\n 'bush man ball dispos saddam declar war islam fundament regardless went interest oil oil want return rid world religi tyranni hope start begin end religi domin world almost year islam tyranni not mention religion includ roman catholic matter world final someon step put end look europ move toward islam major want recap pari riot rest world cours would extrem major minor charg god forbid islam world govern',\n 'fuck problem bitch fuck delet dreamtim festiv page shithead folk actual interest thing like bitch world favor stick head ass take big whiff guess shit stank like everyon els self righteou fuck sissi sincer guy fuckin yo mama bitch',\n 'fuck anom porn',\n 'fag fuck punk ass littl bitch stop edit peopl shit fuck pussi get knee suck fuck inch dick',\n 'fuck nazi love cunt',\n 'tocboothi fucker',\n 'fuck care',\n 'certain admin block tell truth certain user dirti trick anyth user pull dirti trick punish victim dirti trick perpetr goe scot free wikipedia justic practic admin pschemp appar want one know ryulong delet request help khoikhoi talk page fals describ request help vandal edit summari oop uncivil tell truth prosecutor court never abl tell truth crime would uncivil person attack use word lie dishonest vandal thief murder rapist etc judg would get upset uncivil comment come think everi time admin describ user action vandal user vandal improp person attack accord pschemp logic pschemp treat peopl equal not like better block admin make person attack describ particular user behavior vandal better block ryulong use person attack fals edit summari',\n 'cockbag herad gaylord',\n 'yea well kiss fucker shit nut',\n 'omicronpersei omicronpersei like homocronperson fuck think use talk page want',\n 'let make clear add fals claim articl longer will check singl claim correct revert wast much time alreadi',\n 'major edit summari receiv messag vote candid administr consid edit summari usag import exactli wikisin mathbot',\n 'octopu one us attend school',\n 'nintendo press releas iwata ask accent name',\n 'explain concept anti american quit understand mean genuin accept term ultra right outpost imperi murdoch empir fox tw empir cnn understand exampl imagin someon itali releas book call anti italian even merit discuss perhap laughter certainli not discuss',\n 'ye took understand would littl shock satisfi explan though reliev thank',\n 'cite sourc bottom page mean fuck sake read fuck discuss page dickwad',\n 'talk one person unless also sock puppet account apart seem grasp leav alon funni way ignor someon primari school deal call name stop call name stop wind ie leav alon never come back talk',\n 'think find edit ware fuck dare swear',\n 'cours first time leinart proven clueless nfl week ago kneel way qb expect end victori lion lion defend gave ear apolog game said victori format nfl thu know proper way kneel make sens',\n 'professor rhetor pompou self center asshol',\n 'not shocker bitch',\n 'plot wrong saw film plot wrong girl seek son drug eiji put iv experi contracept mother not know son drug put neither mother make film disturb choos part experiment son',\n 'hey dan fredinburg inde notabl person get goddamn chip shoulder delet tag remov',\n 'septemb utc easili rectifi stand ye also',\n 'minor counti refer made work minor counti solid piec primari research mani year',\n 'join shut stfu',\n 'fuck edit page well',\n 'feel stupid bitch edit wikipedia bad nobodi ever love',\n 'junk crazi homag site junk murray peden refer murray interview age particip quot dotag memori account bah murray',\n 'may utc agre oncenawhil per wikipedia con consensu materi remov jayg comment meaningless add noth discuss',\n 'well obvious noth wrong exampl gave inde violat wp waf like claim guidelin bullshit ignor',\n 'bot beat signatur sorri talk',\n 'remov sock puppet let edit page one time may ask hell continu contribut posit cant even refer work hope taken heed final coment',\n 'block wow report',\n 'make comeback make comeback mate',\n 'lol berni mac actual suck though care',\n 'fuck dancehallqueen fuck u bitch stupid cunt eat dyke ass jamaican ho',\n 'point approv requir anyth kindli fuck thank',\n 'go murder zimzalabim st evil homosexu jew',\n 'beta inde beta gamma kappa chapter univers north dakota recent redesign websit decid add link list beta theta pi chapter page notic chapter websit link page also current work complet chapter list chapter kai',\n 'defamatori slander accus made call abus administr victim abus power administr accus bia reveal tremend partial economistbr opinion call dictat would appreci explan action rather unsubstanti dictatori act call arrog exercis prerrog block page somewhat arrog authoritarian way call opinion unfair economistbr user question appeal administr user hu took unfair unbalanc view smear campaign person attack vengeanc imparti rule produc satisfactori result',\n 'insert origin research articl not allow',\n 'respons user talk dvdm float point talk',\n 'aotd featurebox inmedia ye',\n 'even right movi call mee liar violat personel attach polici conflict interset gotta kid conflict reciev noth produc video produc entertain promot band singer introduc educ valu throught video link one constitut spame that odd interptertaion suppos one add one thing promot pernoid conclus video link promot copyright sinc call liar would like prove copright conflict interest make video fan neuter point view not neutral spam link organ wikipedia definit outsid link vertu copyright sould not issu that youtub job calm fuck wikipedia hours wrote wast time effort last time fuck',\n 'hair lower mum tit',\n 'fuck',\n 'suppos probabl spent money star war book money condom make sens not stupid ignorantli poor',\n 'evelyn beatric hall biograph author voltair friend voltair often mi attribut voltair',\n 'user edgar shit user edgar shit user edgar shit user edgar shit user edgar shit user edgar shit user edgar shit user edgar shit user edgar shit user edgar shit user edgar shit user edgar shit user edgar shit user edgar shit user edgar shit user edgar shit user edgar shit user edgar shit user edgar shit user edgar shit user edgar shit user edgar shit user edgar shit user edgar shit user edgar shit user edgar shit user edgar shit user edgar shit user edgar shit user edgar shit user edgar shit user edgar shit user edgar shit user edgar shit user edgar shit user edgar shit user edgar shit user edgar shit user edgar shit user edgar shit user edgar shit user edgar shit user edgar shit user edgar shit user edgar shit user edgar shit user edgar shit user edgar shit user edgar shit user edgar shit user edgar shit user edgar shit user edgar shit user edgar shit user edgar shit user edgar shit user edgar shit user edgar shit user edgar shit user edgar shit user edgar shit user edgar shit user edgar shit user edgar shit user edgar shit user edgar shit user edgar shit user edgar shit user edgar shit user edgar shit user edgar shit user edgar shit user edgar shit user edgar shit user edgar shit user edgar shit user edgar shit user edgar shit user edgar shit user edgar shit user edgar shit user edgar shit user edgar shit user edgar shit user edgar shit user edgar shit user edgar shit user edgar shit user edgar shit user edgar shit user edgar shit user edgar shit user edgar shit user edgar shit user edgar shit user edgar shit user edgar shit user edgar shit user edgar shit user edgar shit user edgar shit user edgar shit user edgar shit user edgar shit user edgar shit user edgar shit user edgar shit user edgar shit user edgar shit user edgar shit user edgar shit user edgar shit user edgar shit user edgar shit user edgar shit user edgar shit user edgar shit user edgar shit user edgar shit user edgar shit user edgar shit user edgar shit user edgar shit user edgar shit user edgar shit user edgar shit user edgar shit user edgar shit user edgar shit user edgar shit user edgar shit user edgar shit user edgar shit user edgar shit user edgar shit user edgar shit user edgar shit user edgar shit user edgar shit new',\n 'ieee confer ieee institut electr electron engin new york base institut electr engin us base differ merger not requir',\n 'exactli problem jeff leav alon grow get life assclown put video game control go outsid play real game littl boy neighborhood',\n 'fire moron wimp lazi research make sick peopl like exist world',\n 'cunt fuckin asshol bitch il fuckin ream ya',\n 'consensu agre far provid zilch reason continu remov text',\n 'edit creat bethani chave matt white ryan burn part group topic sk channel boston colleg chang major though much origin inform page left addit edit critic welcom three group member contribut equal new page seen imag ad creat photoshop ryan burn',\n 'not even televis yet',\n 'michael wisner idiot mayb remov use ref process ooop go put back case actual ref tipto room see round',\n 'new warn make chang soap opera charact page perhap consult wikipedia soap project page consensu decis elimin bottom page list reach implement new soap opera charact infobox instead not undo edit made member project edit consid vandal block could put edit privledg thank',\n 'racist person bet u want die street cant reaesarch war thank yto need go harvard ca bridg cant thnak u',\n 'head need includ histori prehistori middl age mediev histori coloni era cultur media music architectur art danc sport martial art cuisin name institut polit',\n 'peopl douch bag fattyjwood douch believ would like gay team like yanke well guess got one like one p fuck georg w bush',\n 'think led inaccuraci saw mass rapid transit singapor open countri made news world first autom heavi rail system open lill metro whitch fulli autom light rail label name v hicul automatiqu l ger light autom vehicl unless mistak lill citi got first autom metro system',\n 'endors hama say freedom human legitim fighter act like oper agenda discredit israel countri nation stand behind everyth say not threaten friend feel sensit not harass sinc get jim wale faster',\n 'fuckbook suck hairi ball',\n 'oversight cunt never make arbcom attitud',\n 'seem plausibl certainli seem get past edit conflict delet comment talk page without respond want civil discuss make imposs not repli question ignor delet valid question might get call jerk less often',\n 'wikipedian beauracrat say user forget spirit intend repres hit nail head spirit wikipedia vision admir time see strangl frustrat surfer like msn prone corrupt gratifi know feel secur thought effort not complet waist time may think best tackl problem see best faedra',\n 'hello made construct edit know think guess make wrong okay mistak happen back make sure happen less okay public transit system go leech like keep suck loathsom prick hell',\n 'must real loser mental infant tri block obvious improv page number editor actrual read hume interest strongli agre cheer',\n 'learn read stop surli prick keep snide comment',\n 'idea hell talk live sacramento never live san diego not sure med take put midst battl receiv messag today idea howev go report stalk stay away page made edit sinc block month ago',\n 'person attack hell talk quot',\n 'remov pathet scum remov pathet scum disintegr hang drawn quarter',\n 'manga anim anim faith manga ye mani chapter cover',\n 'total suck hi let clearyfi someth exit shitwhol dear bishonen wonder pretti realli pretend resons admin responsabili wikipedia built user way trate find place commun let say calton nasti not friendli contact cyberworld raw model dont part your protect approch ununderstand import protect uncivil total sociopat caract',\n 'look blatant anti romanian remark anti romanian remark',\n 'noel alright cheer yer comment noel gallagh would like know feel necessari remov trivia controverci section dunno like easi digest stuff like trivia section way present lot interest fact would troubl comfort fit main articl without make long b make said fact appear place controversi section hard expand often quot noth less realli work main articl reason trivia section think stay give flavour man coz famou say controverci thing think got miricl solut feedback would great mayb also money',\n 'quot tour section page disput topic would person disput explain problem',\n 'garibaldi baconfat',\n 'redirect talk angel judaism',\n 'mention someth philanthrop bodi someth similar agre possibl said unlik sometim unlik happen',\n 'oi stop vandalis bovin articl get clue eat chappati',\n 'deeeeeeeeeeeeeeeeeeeeeeeeeeeeeeeeeeeeeeeeeeerp stupid like jac duuuuh edgar',\n 'delet memil talk page inadvert similar materi talk page sire go back forth two mistakenli thought delet comment page thank notic',\n 'hahahahaha dude go get real job old u come gete stupid',\n 'revert edit big babi serious want burp littl babi stop take life serious grow hell noth wrong yet threaten ban without refer wikipedia articl good faith edit stop treat like shit kill mean spirit person',\n 'come guy seem think shit bare reli team mate shit without homi',\n 'fine see not gonna work screw',\n 'block uahahaha go hell motherfuck wikipedia shit wan make noth',\n 'april utc thank not quit point question whether provid autom edit summari order page watcher instantli identifi chang noth detect delet undelet page protect up page protect etc obviou review chang identifi even much page histori fail show activ irrit activ contributor suddenli receiv multipl chang notif chang list edit summari provid simpli suggest page curat provid simpl summari review spring mind tool commonli use',\n 'hi plan updat page come week inform quit old j choo limit would like updat pictur etc may notic alreadi made small chang anyon still monitor page pleas let know happi discuss',\n 'fuck pleas stop send messag let fuck sake honestli fuck better fuck time not avail adopt even fuck adopt piec shit grammar fuck aw spell even fuck wors fuck send anoth fuck messag fuck creat account fuck account vandalis piec fuck shit page fuck',\n 'kiss fucker shit nut',\n 'say admiss requir men must one testicl look west point websit find anyth confirm need sourc',\n 'side project plain list like feel somehow wrong side project bill rhi chri ad clariti',\n 'soso say idiot follow rule real honest gentleman respect wikipedia take page done great amaz accomplish worthi page sir noth sad excus human soso',\n 'sunshin quit asshol state fact actual appear finish film not opinion origin research crack stupid advis offici complaint file wikimedia',\n 'hmmm think think',\n 'croatia declar independ first arm conflict true war escal declar independ certainli exist croatia formal declar independ agre yugoslavia could went without one republ situat ground four six republ declar independ war event not necessarili link war arguabl influenc badint arbitr committe said novemb januari sfr yugoslavia dissolv inter alia due slovenian croatian independ vote mean not chang situat march novemb compar cours border sinc demarc committe not first two date specifi import erdut agreement unsc resolut defin territori croatian un mandat temporari defin outcom transfer croatian control furthermor expel forc civilian troop leav countri un mandat not constitut territori chang not field issu quit comprehens address articl',\n 'paranoia award present award thank display idioci world realli sad hear iq better pack bag marshon come',\n 'fag noth wrong edit user page pleas stop fag',\n 'let articl retard',\n 'dave wain say moder think anyon write patent tri anoth comment like cite patent sourc reput guess must ugli daughter',\n 'headlin text end stori spock discov stempel one mother ancestor tie nice sinc mark lenard also play spock father sarek episod origin star trek star trek next gener well sever star trek movi cute except hardli make sens one amanda ancestor resembl sarek',\n 'guru life differ melchior',\n 'oh sorri apologis tri clear air suggest tri get along edit wikipedia might want grow littl tri get peopl right make look stupid requir apolog basic manner howev read comment not go hold breath wait offer get friendli way still stand think import choic',\n 'redirect talk th infantri regiment unit state',\n 'fuck wikipedia fuck site fuck admin',\n 'pleas engag meaning discuss resolv debat editor mark ame pleas not continu flout consensu insist matter brought attent administr',\n 'pronunci ceawlin ceawlin not pronounc colin pronounc see awe lynn quit sure school',\n 'fals accus comment user user talk say user ip address vandal user talk neptuniandroid deed done pleas refrain person attack threat ip address alreadi vulgar remov thank',\n 'anti semit crap whole articl anti semit conspiraci theori cherish aryan supremacist rightist',\n 'fuck guoguo life friend go fuck weird bitch block soon alright bitch bye talkback tdawg',\n 'moron suburb place silver spoon glisten sunlight guess',\n 'chang titl section specul caus crash',\n 'posit abus abus posit block peopl like wo tell truth shame',\n 'unspecifi sourc imag herbertgurski jpg thank upload imag herbertgurski jpg notic file descript page current specifi creat content copyright statu unclear not creat file need justif explain right use wikipedia see copyright tag not creat file need specifi found e case link websit taken term use content page file also copyright tag one ad creat took pictur audio video tag use releas gfdl believ media meet criteria wikipedia fair use use tag one tag list wikipedia imag copyright tag fair use see wikipedia imag copyright tag full list copyright tag use upload file consid check specifi sourc tag find list file upload follow link unsourc untag imag may delet one week tag describ criteria speedi delet question pleas ask media copyright question page thank',\n 'eat shit fuck ars rap jew fuck arab kill',\n 'allerca cat anyth mention genet engin cat allerca',\n 'well suggest spend second use googl one sourc say someth throw commonsens window',\n 'look edit care not deni genocid mere rewprd level uncertanti understand stand talk mar utc',\n 'well smallboy tri proper research stead circular refer wiki page base press releas turn come earlier version wiki page pompou self import oaf limit intellig doubt complet stereotyp almost certainli weak ineffectu effemin real world must make real hit ladi eh later loser',\n 'deaf blind repeat start late collaps mid support cite poll',\n 'omg block ip pleas share comput ja know',\n 'ad map poland center show silesia wroclaw breslau alreadi conquer poland poland conquer addit peopl land surround poland holi roman empir end polish conquest silesia instal two silesian duchi wroclaw breslau ratibor later name lower silesia upper silesia empir instal boleslau mieszko duke silesia held duchi fief empir even duchi poland polish duke pledg allegi empir held territori fief boleslaw chrobri declar king die year son tri evad take land lien holi roman empir year submit polish duke submit empir wenzel ii king bohemia part empir also becam king poland silesia conquer boleslaw chrobri rule polish duke subject holi roman empir thu silesia conquer boleslaw chrobri polish map poland ad wroclaw silesia partial conquer silesian duke govern silesia subject highest duke magnu dux silesia holi roman emperor',\n 'substanti claim iraq liber act violat intern law',\n 'never link anyth transform would page german mytholog name wolfgang',\n 'see talk not make mistak think provid defenc wp sock',\n 'borough brent ethnic statist thank contribut london borough brent revert chang made noth els not correct thr white not british irish exampl polish',\n 'barnstar thank much barnstar sincer appreci',\n 'classifi termit specif group',\n 'not block dumb use webanywher',\n 'band son bitch not live long enough hang treason fortun patriot desecr grave guess that way hungarian peopl get reveng trator like pig',\n 'koorong etc seem problem appar coi editor usernam describ edit rather user appli chang tame tiger realli think relev publish articl certainli not bookstor articl obvious issu regard author restrict page anselm',\n 'done period also',\n 'oh not annoy plan german ship want territori work long time actual today year first edit german bb articl would realli prefer would mind work articl nation pleas',\n 'piss stop make person attack administr everybodi delet articl nobodi help tell make pass rule wikipedia receiv critic',\n 'fuck cunt know lot flynn take referenc stuff els',\n 'may utc brew given citat thing argu polar coordin inerti frame correct standard way analyz planetari orbit motion section put yesterday standard textbook planetari orbit theori mention goldstein conclud editor schoolboy done basic circular motion theori total unwil examin gener case curv path motion ellips hyperbola role radial outward centrifug forc would say section eras yesterday reason nobodi could understand sinc never done planetari orbit theori advanc appli math univers true schoolboy style anyth understand must go trash',\n 'well take long',\n 'fuck wikipedian sinne ah ye return',\n 'that actual shall consid retir long seem okay person insult fascist dirti mind religi fanat delet complet section not fit proselytis mission life thank noth',\n 'typo salver silver dish',\n 'jayjg alreadi eaten tablet must get tortur make confess secret',\n 'oh diddum hit sore spot person attack recal attack anyon person stop tri use wikipedia rule silenc comment nasti evil countri like talk bad refer mani time take show much rest world hate even tri steal one britain biggest influenti game publish peopl tell get lost hate hate much mani reason prove exactli hell feel',\n 'articl c class reason piec shit yank cunt dont take advic rest world stay insignific piec shit profan not diffus accuraci yanki scum',\n 'three year run jun utc',\n 'support per preced describ op invit bot',\n 'hey cunt stop report page go get real job ya troll',\n 'entheta stupid head',\n 'sure held standard still tan wave hanki tear long',\n 'tough beat connolley raul shulz dictatorship mr marx would proud littl comrad',\n 'well tri say polici abl step back see encyclopedia articl done hmm wonder wp gestalt',\n 'featur articl candidaci process harrow begin third one went archiv second found arduou tax sinc howev seem like verit stroll park lot stress tri figur expect process vs variou individu want see not quit clear lot trial error involv easier simpli go freakin crazi add everi last thing possibl find add beg editor nice review articl decept amount work involv get fa jame bevel certainli worthi articl get though',\n 'tell not useless towel head sand nigger kind sicken',\n 'question big boob',\n 'thank polit correct babi prick bastard pleas provid address may show kick lame ass okay asshol',\n 'say go fuck cocksuck littl power massiv gone head',\n 'mean keep list articl suggest list potenti champion titl win present think like wcw tripl crown listng acknowledg made would clutter articl list one away titl exist anymor idea ecw tc give credit got titl come back tc winner way anakinjmt thank back u titl debat decemb utc',\n 'want say one thing clinton white christian victim jewish get applaud spitzer jew victim white christian cop noth critic old racist nazi muffin ideal still',\n 'sexual predat rh donat worthi caus demand email address',\n 'stop attack peopl deni exist beef not word articl repeat offens racial slander told sever time offens remark yet not seem care one bit',\n 'dont delet talk page entri fuck asshol dont make obviou crimini loos not suppos pimp mother l downtown time night normal preach pimp ass',\n 'especi fuck fuck wikipedia rot hell piec shit',\n 'mmm hmm tell anoth one usernam say thing everyon includ written easi check http en wikipedia org wiki categori wikipedia sockpuppet eleemosynari look forward open investig sinc save troubl figur oh p probabl biggest dick ever met internet kid pleas shut like forev',\n 'also proven',\n 'violat wikipedia rule deni nation insult talk page sociopolit valu not even discuss saw userbox attack base that call violat think disciplinari action appropri harass like spread stupid hate',\n 'account project decid ignor histori herebi quit good bye oh tim vicker complet asshol lol bye',\n 'hi two time entrient websit think guy block cookiesandboob gay yeah u heard fool total ass wipe go fuck u litll bitch u',\n 'editor gay go fuck',\n 'ediot find street kick ur ass',\n 'fuck etiti chat wit contribut',\n 'republ mosquito faggot faggot get internet',\n 'kiss ass limp dick loser',\n 'also see http www forb com site johngoglia drug alcohol test asiana flight crew not requir law didnt ntsb faa request voluntari complianc http thehil com blog transport report aviat ntsb chief asiana pilot not drug test http www upi com top news us asiana flight crew not test drug alcohol upi http www ibtim com asiana airlin flight ntsb say pilot not test drug alcohol crash http www latim com news opinion opinion la la ol asiana airlin drug test stori',\n 'anti russian movement central asia one year ago establish network central asian youth parti motiv act pig like russian let children aliv countri till last dirti slavic russian leav countri caucasia south russia son daughter send countri lose head kill one caucasian central asian kill everi singl individu exactli russian death dirti slavic russian german kill dirti slavic bastard kill dirti slavic bastard born serv non slavic not way round sieg heil islam gorgon',\n 'p address abingdon witney colleg http www abingdon witney ac uk witney campu comput termin internet access free use student',\n 'william saturn sockpuppet hey dickwe saturn rememb dumb fat bitch',\n 'mar utc full name made mistak comment edit howev polici full name see georg w bush apr utc gener style guidelin indic use person full name articl use readabl cours except instanc discuss georg w bush georg h w bush articl would make sens specif apr utc mad never end quot quot mention wikiquot not apr utc not crook never obstruct justic text press confer extract version neither partial incomplet transcript contain nixon quot question respond find offici text http waterg info judiciari appi pdf extrat version caus not hous judiciari committe hold waterg hear appear feel question nixon person financ tax return not german thier proceed sound like conspiraci theori sure transcript contain question ask nixon well respons plumber gotten yet juli utc fact file volum oct pg white hous refus confirm deni oct report provid r journal bulletin presid mr nixon paid feder incom tax fact file volum nov pg presid made declar discuss person financ presid ask press report paid feder incom tax whether public offici disclos person financ still transcript question accuraci pov quot question well persoanl presidnet inbcom half blind clutz bare type word per minut nonetheless accur citat found virtual public librari mean demean type skill make fair share mistak well intent point extract fact file not specif relay content question nixon respond mention never obstruct justic juli utc new york time articl r w appl novemb cite nytim articl not present question nixon respond find virtual press account event question noth waterg best call waterg relat alli actual incorrect post articl specif state respond waterg relat question cours talk person financ tax say never profit posit not whole quot seem keep evad discuss part also deni obstruct justic believ transcript exactli respond would go long way clear thing juli utc howev support fact cursori investig inde relat waterg investig month torment waterg alli scandal presid gave detail answer dozen question support nixon quot waterg scandal least somewhat relat found washington post articl declar not crook presid nixon vigor defend record waterg case tonight said never profit public servic hour long televis question answer session associ press manag editor mr nixon tens sometim misspok maint',\n 'agre wiki freak criticis abstract rural islam cultur critic quran book propaganda know',\n 'welcom hello welcom wikipedia tabtab hope like work want continu need help name new articl look name convent help format page visit manual style need gener help look help faq find answer check villag pump wikipedia relat question refer desk gener question still help tutori polici librari also forget visit commun portal question feel free post talk page addit tip extra tip help get around wikipedia made edit got account might interest assign usernam tab want play around new wiki skill tri sandbox click edit button page look editor sign name use three tild like use four add datestamp alway sign comment talk page never sign articl might want add new user log first languag english tri wikipedia contribut articl outsid nativ languag happi edit juli utc',\n 'incident wp rule upload imag suck',\n 'need exampl look answer rfa green zone list',\n 'interest theori detect say anyon realli criterion person ident employ event think time might profit spent fix broken heidegg page alreadi inform demonstr two sentenc lead guilti error fact interpret grossli distorrt import heidegg nazi episod not pick head ass fix fuck articl instead play cowboy indian hardi boy whatev masturabtori fantasi engag good night old friend b b eb fcf c',\n 'slim virgin mindless stupid asshol hook power kick also sadli neither slim virgin',\n 'sorri realis advertis wiki rule pleas feel free remov imag upload pleas let know novemb thank',\n 'hate think way dam fat',\n 'hey ricboom ever fuck go schoolim gonna beat shit',\n 'perhap block admin recognis futil block rest wikipedia thought person attack talk page',\n 'egotist like disregard fact help argument cours alway right mean admin infal right',\n 'edit add someth hour eloqu turn mani differ view properli ventil jul utc',\n 'umm dumb ass noob dick stuck bear trap coven evil warlock breath neck intent utter destruct make sad boot hate self hurt other must act guess help advic hug slap la patton',\n 'ride dan brown dick hard everi edit made fact pleas revert chang',\n 'blow ass dirtbal asswip',\n 'will take critic edit will back wrong statement good faith also true made statement author without cite sourc howev statement realli weaselli statement intend answer revert last version critic impumozhi edit think valid remov weasel statement conced critic word valid believ impolit uncivil impumozhi anyon els pleas let know wrong may tender apolog',\n 'eat shit titl say',\n 'sorri see go case thank obvious tremend effort part',\n 'remov list cover firstli not realli cover six second snippet top song secondli realli think notabl encyclopedia',\n 'user worthless goddamn faggot fuck faggot',\n 'idiot without presenc mind think us trial error target get editor basic useless ought herd war crime go afghanistan',\n 'upon time stepp far far away dark time rebellion bulgak tribe although hunnic empir destroy imperi troop driven rebel forc hidden base pursu across pontic stepp evad dread imperi horsefleet group freedom fighter led khan asparukh skywalk conquer scythia minor open access moesia establish first bulgarian empir evil lord genghi khan obsess find young asparukh skywalk dispatch thousand remot probe far reach stepp p replac origin articl fiction stori make differ serious',\n 'wow snide rude respons xeworlebi shocker clearli mark disambigu page incorrectli arrog listen',\n 'fuck articl protect',\n 'mangojuic piec shit fuck die',\n 'hell point fact homophob vandal true read everi last write made ho mo phobe',\n 'age discrep ms takahashi born could th runner ms univers pageant',\n 'mum big old dirti roadwhor',\n 'mention gamespot ign amazon wont list fake game fuck sake trp stop ignor stop act never wrong',\n 'thank lot yeah go welcom fix play cool',\n 'welcom enjoy wikipedia',\n 'idiot like make wikipedia vulner',\n 'hey hey hey hey hey hey hey hey hey hey hey hey hey hey hey hey hey hey hey hey hey hey hey hey hey hey hey hey hey hey hey hey hey hey hey hey hey hey hey hey hey hey hey hey hey hey hey hey hey hey hey hey hey hey hey hey hey hey hey hey hey hey hey hey hey hey hey hey hey hey hey hey hey hey hey',\n 'think realli reason club name ajax fact time club establish thing name footbal club netherland greek methodlog figur see club use similar greek metholog name excelior sparta rotherdam heracl almelo number non proffesion club achil assen',\n 'tri help fuck soo much fuck cunt shall hunt kill ever soli',\n 'thank experi wikipedia test work revert remov pleas use sandbox test want take look welcom page would like learn contribut encyclopedia thank z z',\n 'beeeitch anna like sukk deeeek',\n 'oooh mr badass faggot block peopl wikipedia dude go fuck girl instead da comput day',\n 'uh wanna fuck hard sink',\n 'lista unit state senat elect delawar',\n 'anybodi ever come add info might want consid use materi http www gq com news polit big issu wall street journal rupert murdoch printabl true currentpag',\n 'not abus say fuck fuck bullshit accus wp spa accus breach wp spa deserv ban look admin said abus not even deserv warn yet conduct deserv block utterli unbeliev',\n 'dear mr anal retent wtf talk bitch perfect edit topic price super bowl ring problem kindli apolog state thank',\n 'ugh forgot stuff daniel brandt page sincer apolog tarc regist wikipediocraci day ago curios think mention somewher among man furor ran tarc post mention one point googl name realli like idea dig site public forum obvious found brandt page look forum post like meant link tarc wikipedia review post somehow forgot actual',\n 'insert reason unblock',\n 'go fuck eat shit die',\n 'state unambigu term',\n 'critic recept top gear accept sourc jeremi clarkson jame may entertain reliabl refer sourc besid doubt peopl actual buy xf care much top gear say',\n 'look',\n 'im not last chang hi akr not last chang polit less accur',\n 'hahaha piss fucktard',\n 'fuck miss mani maverick kind wikipedia need sorri see anoth one leav pleas mean take break cool ignor place damn hell wish make forev sonia',\n 'fuck fuck putang ina mo bullshit na bakla ka hayop ka putang ina mo mag chupaan nalang kayo ni nrdg dahil desper gay na walang magawa sa buhay fuck fuck putah ka',\n 'shit georg tan bitch go hell',\n 'tell alreadi game play howev sovereignti dead seriou busi mean busi enjoy next two week could get real hot',\n 'comment act comment fact tri destroy someth sorri realli care less wp wp',\n 'ass see feel like',\n 'nanci propos long version riddl pov almost everi conceiv point slaveri albigensian crusad coloni mit brennend sorg wwii organis demograph sex abus name definit need pov tag page ever accept',\n 'respons well thank give final warn usual get appreci expand articl site word encourag hour spend fight vandal crap crap edit could describ nonconstruct way go moron keep good work',\n 'talk tri threaten bar care thing not whether undo not thing whether undo right not prove wrong post someth els user talk page until wast time post crap thing talk page',\n 'defend barbarian invad right israel fuck scum',\n 'discuss discuss allway way',\n 'thank contribut best buy articl revert wish test capabl wiki pleas sandbox test may deem vandal action may taken accordingli thank think loud',\n 'user talk hesperian anyon ask opinion would seem wackipedia run along similar line nazi germani',\n 'saw got block bad life dickhead',\n 'sex freak dam rfk sex freak daaam children must fuck cum wife everyday',\n 'hope grow one day someon like get wikipedia till feel free play moron trick',\n 'system cannot self organ not everybodi know',\n 'dear doorsajar pleas tell bongwarrior vandal bongwarrior protect talk page vandal kept write cock love faggot bitch',\n 'bruno leonard hello longhair rememb',\n 'pleas see pictur ball uninterest littl internet power game eat dick way late see dick alreadi berat rude eras articl friend pretend like life mean',\n 'may work quot later real goal seiz control parti apparatus state reli caucus hand paul organ direct parti fund oper recruit support candid follow paul platform way exert influenc nation republican parti well potenti year come ron paul want influenc republican parti america good',\n 'gener point gener point consider regard comment made discuss think point need consid not whether album discuss whether album cover discuss mere discuss album discuss everi time album discuss use cover would justifi case everi time compani discuss logo would justifi everi time deceas celebr discuss portrait would justifi food thought feel free repli talk page respons',\n 'porn simpli go freepornvideo com direct anoth site search fuko sever video mosaic genit chest uncenc preced unsign comment ad pervert lol harada last name add',\n 'care whether justifi not nev opinion count noth childish make wonder ah well use next user name',\n 'oh read vile diatrib left user page get respect pathet littl shit fuck unhappi littl dick puller',\n 'damn ur ugli fukka',\n 'thank kind patient helpful wikipedian share knowledg advis almost done fix chang recomend sign soon work morn look forward work alongsid futur help much appreci talk',\n 'australian skittl work abroad australia surpris find green sskittl seem appl flavour edit articl sourc revert hard time track sourc flavour australia anyon got idea empti packet front could take pictur upload somewher blurb say made australia packet not old packet us skittl anyth also email custom servic see verifi would possibl upload respons somewher',\n 'forget call crap crap whenev feel like bad enough wade feel insult fact alon crap crap crap',\n 'not delet crap delet crap retard',\n 'imag anim crap get new one',\n 'anyon watch confirm report oil seep siljan ring report abiogen petroleum origin talkpag would help greatli resolv weird shite go around name conjunct nikolai kudryavtsev kudryavtsev rule etc',\n 'gideon levi kahan haaretz amo harel idf rabbin rap booklet advoc cruelti gaza war haaretz',\n 'know go read rhymeless tell wrote differ would call hendrix guitar virtuoso great guitarist popper one greatest harp blower repli cunt',\n 'wiki fag like neiln perfect screen name probabl alway knee californiakansan devout leftist propagandist intent stifl speech suppress fact idol g',\n 'weird not use public network perhap assign ip address alreadi taken whoever edit thank explan',\n 'specifico chime usual bullshit time close discuss',\n 'case omiss name derek freeman far detail studi flatli contradict mead revolutionari find samoa pleas spare anthropologist made vagu critic freeman',\n 'yeah burn church mean hate architectur not hate gun mani fervent support privat secur guard hate peopl gun even hate individu advoc privat ownership not demilitar even disarm polic area handgun ban',\n 'fuck nob knight fuck go vandalis someth els fuck face',\n 'sure break rule edit outrag pleas start respect content wikipedia stop kind disrupt make pov point someon file rfc disrupt rr violat person attack realli get hand plenti diff present',\n 'support thank hard work check everi detail applic principl sound real good thank jon',\n 'r stupid idiot jame u moron crazi leprecaun transvestit',\n 'kind name prairiewood shit name evil happen mad name like hinchinbrook bossley park seem prairiewood produc noon evil heard rumour stalin origin area',\n 'person info reader would like know crawford person life exampl marri think spend privat life know own hous bay island new zealand',\n 'well heck miss appreci nation beverag rak consum offici dinner reform section knew subscrib playboy magazin pleas enter articl refer citat',\n 'whatev whatev fuck asshol anyway teacher friend tell wickipedia total unreli anyth inform total garbag besid even care block pointless keep poison peopl mind fals inform bye bitch',\n 'one version anoth collect group ceremoni sinc think one sourc author might insuffici explain issu also question whether prior build renov whether practition belief actual use site form religi practic centuri suro',\n 'zencv edit day ago refer clear demonstr ludicr simpl label fahrenheit propaganda addit work psycholog refer derid also citat slate bbc find film propaganda http news bbc co uk hi entertain stmhttp www slate com id way one argu differ standard exist articl one push non neutral pov',\n 'runescap sin jagex anti christ whore babylon',\n 'ha ha even show japanes face still probabl believ japanes dare would argu',\n 'god would say go yo hell bitch',\n 'unblock prick yeah',\n 'ye awar sweat',\n 'shut',\n 'stop revert edit cunt',\n 'fuck shit kwa kwa kwa',\n 'repli kingdom ok go reiter garag rock not influenc punk music care long hair anti punk hippi cobain quot say go depend grung histori contradict punk one quot hippi part movement help bring punk make sens go provid plenti quot time come vastli overshadow quot godamn better not edit ban done way damn happi idiot cobain die noth punk buri use stupid american grung music lame american know anyth tast style fashion music',\n 'like thank littl peopl suck stand full height realli motiv go way obsess california highway complet journey fag side',\n 'feydey complet fuck fag saw harass thought inform fedey fuck douch bag asshol revert delet whatev fuck feel like make tini manhood satisfi partner male femal shemal prick like gtfo wikipedia curl die mother basement natur order thing',\n 'jean pascal beintu kinu notic mark jean pascal beintu articl violat copyright regul plagiaris content beintu com administr site wrote articl well content beintu com took necessari step permit use materi includ place tag site sourc send email wikipedia leav comment talk page sever day ago import beintu origin articl retain copyright violat tag remov user put tag first place pleas remov bring back old articl includ text photo least give timefram page onlin mani thank kevin walker p sorri whole wolftim thing',\n 'stop edit karli page kill',\n 'aw articl wow great work realli come along nice make littl tweak base effort talk',\n 'pleas cunt make threat pleas want discuss issu critic portion complaint school rule irrelev encyclopedia entri critic fine critic not valid encycloped entri pov everi school rule complaint rule belong encyclopedia',\n 'troll facebook report regullari troll josh ware nevada josh ware wast life faggot fuck dad figur anyth els exist perform two hobbi continu watch guy digustingli sickeningli gay',\n 'actual koski minist conserv later left ndp koski famili long time ndp support go back least allan blakeney year think whole controversi realli call page entitl saskatchewan legisl assembl expens account fraud scandal charg convict member support staff like scraba describ detail book entitl saskscand local librari might use start point sure ndp contributor addit inform might want share time breach trust govern fraud crown import not minim trivial irregardless polit parti involv',\n 'canada present day',\n 'miseri made life miseri wikipedia gonna pay disgust ignor stupid bastard',\n 'assumpt probat place curb editor sside discuss mistaken anti homeopathi editor favor pro homeopathi editor',\n 'jew supremacist liar',\n 'good work bupropion page',\n 'malta arab stop pussi around arab',\n 'thank award go put main page',\n 'go f cottonheadednittymuggin',\n 'vandal noth empti charg left wing radic user danieleng user slp etc handl anyon ad inform page want page dare threaten block without even attempt simplest investig fact want block somon danieleng violat revert rule',\n 'motherfuck dont chang fuck gta timelin',\n 'thank experi wikipedia test work revert remov pleas use sandbox test may want take look welcom page learn contribut encyclopedia',\n 'let see tit lol peni',\n 'gave sourc clearli not read go back school learn read sinc dead mother never taught anyth wife whore doesnt love must mexican better go back mexico',\n 'may utc hi avidiu pleas see least two sorc',\n 'friendli notic hey bilcat problem',\n 'norman long sinc come gone live past interest call motherfuck not realli word use england much american chanc would certainli explain lot anoth place call breton not make mind idea give shit ethnic insecur wikipedia not place display',\n 'doo doo da da da da go screw',\n 'suck hardcor yep heard',\n 'know thing find wikipedia shape user page',\n 'merg discuss articl say juri member serv anonym think cover ad sentenc two juri articl report committe freedom press exactli qualiti rs innomin obscur term not use either refer',\n 'noth gwen gale say true compuls liar not new user not coax ban tri correct nonsens thing disgruntl ban reason one abus wiki polici not also use editor priveldg promot nonsens nonsens call sourc doucment ton sourc document regard subjecet not one tri promot run problem gale person not author subject not use wiki sound board promot propagada',\n 'ha ha ha im realli get kick guy angri would love make took bad fantast work plan boy hope ha ha ha background graphic design photographi not art say like upload histor photo appropri must busi clean articl ha ha ha didnt notic right front exactli kind person need help articl keep come like die find thing im wrong im actual photograph histori demolish cant contribut dont bitch',\n 'age vandal portrait profil list year birth age new user cannot repair somebodi howev preced unsign comment ad talk contrib black kennedi heard call citat anyon one',\n 'fuck fuck majorli suck dick asshol',\n 'import spit swallow',\n 'perhap want impli sort threat',\n 'exactli think talk',\n 'rang block wheaton half dupag real nice gamaliel well ir pick wiki violat code gamaliel damag wikipedia everi time push polit agenda educ section spuriou attack ad nonsens fail duckworth attack ad mail even take time read eric zorn condemn educ section pueril nonsens eric zorn say item not relev well preced unsign comment ad',\n 'anywher nab case like taken eventu someon like appli letter law rather spirit consist simpli provid reader good reliabl inform thank',\n 'even read sourc come less racist post sort nonsens actual wear nazi uniform post',\n 'disrespect mercuri former member section base fact deceas exampl bon scott ac dc list former member even though deceas tim may',\n 'still pick year old serious need life dude lol ugh hate peopl treat like think sinc like jillion year old much smarter well im swa that gift program stupid pick poor defensless year old how gonna look ur resum big fat fuck pig yea that right curs bitch ass nigga wait see underestim much power year old pussi eat cock sucker',\n 'smell like doo doo stink',\n 'uncivil threat uncivil threat bad faith behavior report rr noticeboard vandal',\n 'great time last night anal sex great man time hope get marri lot date',\n 'tell dic licenc expir think dub suppos play anymor effect banner not quit right terminolog use lea lead believ',\n 'dyk nomin milan paumer ref sort thank advic',\n 'big thank hello jeandr want say big thank note page abl preview categori bottom page believ ever scroll far edit import thing world tri edit order save use show preview button lot appreci time took let know thank talk',\n 'must not look hard found sever without tri cesar chavez brenadan fraser talk page',\n 'yeah say mean websit sourc tell not irish english alec baldwin tri say irish yet evid found shown mostli english french decent unless find evid she irish decent seem fanat pro irish person stop delet post',\n 'ok your fag',\n 'neutral pov conflict mainstream scientif consensu articl like wiki purport scientif focu wikipedia encyclopedia content scientif quasi scientif topic primarili reflect current mainstream scientif consensu ii neutral point view appli scienc wikipedia neutral point view fundament polici requir fair represent signific altern scientif orthodoxi signific altern case refer legitim scientif disagr oppos pseudosci sure alreadi cultur bia west reflect scienc effect impos kind convers therapi opposit citizen manufactur consensu arriv undemocrat conceal mean okay lgbt come clean physic social consequ',\n 'websit hey think get websit display pictur cheapest thing could find know other fir diliff guy websit think legit could provid better altern help guild member also appreci thank talk',\n 'block user fact suckpuppet suckpuppet wikipedia not motif block great stupid',\n 'vandal stop vandalis page annoy',\n 'silenc dissent hell remov comment talk septemb attack one side argument allow present tri suggest littl neutral remov said without reason shown will abus posit push pov',\n 'zappaz remain unattribut opinion saw evid dec utc',\n 'iceland main user geotherm heat',\n 'pleas not delet page may return wikipedia',\n 'ok thank think learn lot',\n 'bald lessheard vanu bald x yiiiieeeeeeeee lessheard vanu bald bald bald bald b l lessheard vanu bald bald bald bald lessheard vanu bald lessheard vanu bald x lessheard vanu bald bald lessheard vanu bald x lessheard vanu bald bald baaaaaaaalllllldddd lessheard vanu baaaaaaaaaaaaaaald yiiiiiieeeeeeee lessheard vanu bald hahahahahahahahaaaa lessheard vanu bald x lessheard vanu bald bald bald bald lessheard vanu bald lessheard vanu bald tell ya got fuck hair b l lessheard vanu bald x lessheard vanu bald bald bald bald b l lessheard vanu bald bald bald bone x tell babi hahahahahahahaaaa lessheard vanu bald x bald x lessheard vanu baaaaaaaald x aquest foru mid life crisi',\n 'aimeele dumb fuck american guess reall realli realli thick canadian aussi kiwi',\n 'merg propos strongli disagre articl delet outright list composit alreadi olivi messiaen articl',\n 'block result long perons vendetta bya user threaten bulli harass continu work sinc unblock',\n 'bother admin give damm wrape power trip truth fact reason dam relgion jimbo coolaid relav wik kafka catch animalfarm btw joehazleton hate other take credit work',\n 'know unfortun coincid travel jimmi not abl scrutin thing close essjay shit hit fan worth consid whether want support someon play sort game essjay play pretend not order gain advantag wiki discuss want let troll case misogynist one seen gull',\n 'fuck fatti get life',\n 'best wikipedia user evar',\n 'said appear tap bet like take yet arbcom wherev pleas stop pathet threat midway prepar rather substant rfc medei bug intervent could curtail fine either way stop mess around',\n 'hello thank much unblock disappoint',\n 'baseless accus harass pleas not accus sockpuppet done numer time fish attempt consid harass seriou convict ask administr intervent thank best wish',\n 'hmm appear somebodi chang one templat make orient differ vandal much chang back much dont like sure not gay',\n 'support one arrog wikipedia nazi tri hard wikipedia polici polic g crash r',\n 'return dear kgyst await return hu wiki dtma mooni ronastudor',\n 'also tri claim fals accus lie piti yet predict everi liar alway say fals accus lie lie sever occas user today not first fact fals accus make inexcus edit fact went edit wrong page mistak instead tri find happen opportunist bulli like use mean lie say malici pleas fall bs darn right end williamj year reign bulli wikipedia stop',\n 'best behaviour singl http www ndubz com discographi offici fuck site n dubz good enough ignor fuck retard cunt',\n 'user iaaasi agre initi revoc iaaasi talk page access sinc propos formal ban wp fair chanc defend therefor request revers action time c',\n 'u pedofil cau uv never seen bloodi cocku ur self u littl not repeat not mean dont exist u ever seen rare madagscan lemur still exsist u cockup accid truthfuli christophiu sehsuvarugloop',\n 'jtkiefer admit sock puppet still use unik account get block get away warn even use unik account leav messag deni sock puppet hand tag page sock puppet notic revert call vandal block justifi wait hear answer',\n 'asshol congratualt huge fuck asshol bongwarrior',\n 'redirect talk craig strachan hockey',\n 'go ahead block fuckin account wikipedia cannot get rid fuckin reason go ahead block log anoth account suck way vandal descuss page mine hell worri mine piec shit',\n 'littl brother yank burn quran piss not bother anyon son not child trick trap walk idiot faith not book fake anger beat sweet red ass yank ruler world clown make movi yeah make movi idiot',\n 'endo group thank invit jump',\n 'yet give fuck fuck wiki shitti star fuckhead',\n 'funni thing say movi releas creativ common state cannot edit see two fact compat sinc true releas creativ common would includ right share remix somehow inform articl incomplet incorrect post releas creativ common feel free share remix',\n 'ident dracula cannot civil concentr upon issu bad behaviour',\n 'ye stupid asshol count not mention screen not mean canon like wyrmk said earlier nathan petrelli son name mention script credit show name mean name seri merchan fuck dise say writer say creatur desgin stan winston say fuck fuck',\n 'make think give fuck polit lean er question say user seem campaign trial behalf ukip non notabl trivia media cover drive add sourc materi articl articl noth bradi made comment decent swear accus',\n 'cheer die fire fianna failur',\n 'got deserv wreck wikipedia call abus filter',\n 'non busi mother fucker',\n 'oooh like bit medicin scare truth least dad defend lie told put back post dare peopl see said also',\n 'come back kick teeth enough enough fatuorum',\n 'virgin smke alway want sex think go sue mean get llawer get let see win fight ha love ya xxxx',\n 'not blank right violat wikipedia user',\n 'happi new year ye find spider articl interest tidi bit ad choic name',\n 'full shit',\n 'thoma h welch thoma h welch read articl mr welch notabl musician not appear meet standard wp band die young make musician notabl sorri appreci mani contribut biographi notabl louisianan think one work',\n 'word pick rastamous bore nob ed wikipedia ever watch anim listen regga beyond chart hit qualif cartoon film music track inc regga track origin',\n 'tkorrovi put number diff request look grant date may last date decemb also look articl histori look recent comment direct whether good compet editor cannot say seem attack person rude way demonstr diff cite mar utc',\n 'bot still move romanian interwiki link wrong place see edit',\n 'cut edg research may inde overturn eventu current consensu wikipedia not place premier research per polici wp origin research',\n 'there fuck school bathroom florenc hight school',\n 'chickenfuck h lulz',\n 'novel movi fiction need articl realli need articl explain mean fiction',\n 'dcokeman preach us high neutral mean need take lesson civil stop throw lame definit webster dictionari prove point mayb assum know littl bit english languag stop preach us neutral mean like father talk child make point someth neutral not without defin neutral us everytim assum mayb quit possibl smarter monkey shout reason need shove opinion throat juli utc',\n 'fastili take ass douchebag scjessey busi talk obama page wikipedia left wing lie fat fuck bad gamaliel',\n 'earl king not continu edit articl wikipedia begin show compet understand basic sourc citat guidelin concern reliabl sourc link host websit',\n 'whole world consid sunni terrorist',\n 'hahaha wikipedia autist motherfuck drone go around circl trap fruitless bureaucraci collect make produc noth drama intellect',\n 'correspond data transfer rate kilobit kbit hd radio document',\n 'bash org delet bash org wikipedeia u suck belgian dicklick lil faggot fuckin die',\n 'bitch shut ass not bogu vinc major owner ye class b share becam famili own control consid famili own reason chang back mcmahon famili wikipedia said edit war take yo ass back edit someth els give edit wwe stephani mcmahon thing year yo stupid ass one said someth edit',\n 'hello jakeyboy almighti lord master univers proteg evilameoba brought attent not nice bad jakeyboy punish hell hearbi order apologis immedi page not need delet peopl know free speech go would like say fuck jakeyboy spoken',\n 'bkbkbkbk leas take time review standard verifi revert shut da fucc bitcch',\n 'hear somchai sun cracker us wikipedia not caught racist swindl use word islam noth wrong want delet page not censorship respect encycloped knowledg wherea worship author want kiss ass white scum anti muslim pro war intellectu nobodi want turn wikipedia nation enquir kind british tabloid stand bother come back simpl anti semit pseudo journalist charlatan',\n 'wikipedian nob head resign close wiki stop ignor frackingjniohn dfngjifd tio ncfgh etrjkrtjgrei crap ifjvo fgieroifgegjio pay attent vjif ijfggijsfdihbnb shit gbfbjhfgiogfbhgifjhgifhnjnm',\n 'complet agre think milborn sort power trip also seem obsess militari strang',\n 'miser motherfuck big dickhead',\n 'look dothead white man encyclopedia stop mess edit',\n 'bbsrock put suck big cock',\n 'mean serious joke make coupl post say categori not belong explain got kid post make seem like littl kid',\n 'amerikkkan like get anuss rape',\n 'work version ad content back remov previou editor would much work make addit remov version',\n 'revert edit stop asscak thing bu realli happen edit yiou want tom improv dont revert',\n 'dmack fuck faggot heard faggot',\n 'pleas stop disrupt edit edit made user magiolad vandal continu block edit wikipedia',\n 'spiketoronto gay rcp',\n 'fuck problem got similar content disput anoth fuckwit stare delet v l u b n e content toni pearen okay let hear golden reason blatant error',\n 'user messag guess miss part said zero interest anyon els say yet left messag anyway also mortal allerg cat piss',\n 'trout trout fuck',\n 'waldo respons total collater blatherskit action junior punk editor would done research prior intimid virtual stupid would taken note link forev mysteri evapor februari timpailthorp due action agent bond februari add link back tri ignor stupid bla bla ya ya ad back get sick deal jack leg intellect bone head editor suffer liber gadz think intellig sorri pal lack sever doctor advic research come back ask question edit thing quit scream junior editori cannon crap r civil like advic take anti stupid editor pill revert revert research realiz action prematur stick accid stupid lie cop subsequ blame stupid action submit civilli sincer applic',\n 'like term eastern eurasian better mongoloid',\n 'guess fuck retard syndrom patient got noth suck much ball whore ask save go fuck cum lick vagina ass swallow dad jizz fuck hate',\n 'fap hard page made cum comput screen mani thank wikipedia',\n 'support mostli think room gener articl thermonuclear weapon separ nuclear weapon one issu weapon design issu could address greater detail issu histori current statu separ articl',\n 'npov articl hardli neutral present',\n 'great lost ref lol get piss littl think smart block pathet polici block bunrtsourc abus contribut wrestl project read rule warn first fail rule',\n 'dad dumb snail kid',\n 'histor document porv claim mughal turkic peopl none offici state document empir turkic languag none rule king known turkic writer nationalist whatev someon disput fact provid reliabl sourc',\n 'might worth note peopl rememb phrase rich corinthian leather montalban never said use soft corinthian leather separ ad rich leather',\n 'honestli j delanoy take look life look much time spend clean vandal absolut noth better societi pathet worthless faggot',\n 'lot mormon edit crowd think simpli want belov racist homophob seen anyth posit light',\n 'talk talk page good know thank win congratul prize wanker',\n 'favonian drink djathinkimacowboy love juic make salvio watch jealous',\n 'nvidia whql driver opengl nvidia releas opengl whql driver retard fellow admin keep revert well done autist asperg child hope burn lowest level hell deserv autist asperg child',\n 'commit suicid get',\n 'ahontoay delet page ahontoay not necessari read reason page delet follow may help learn inform group non treati montana chippewa indian claim search anyth ahontoay wikipedia tri search use name ahonteway work search use phrase user linniebc sandbox quickli lead wikipedia page hon te way though phrase wikipedia contributor name way find wikipedia page name ahontoay non feder recogn group chippewa montana unit state jurisdict way find group non treati chippewa use googl anoth search engin googl ahontoay find name spelt ahontoay wikipedia page spell ahonteway not correct way spell chief name histor record found internet get two name ahontoay ahonteway mix not two differ peopl peopl chief ahontoay not take treati never live reserv prove refus cooper unit state deal obviou differ name spell not right delet page not hoax base real histor event complain superior refus return page page not hoax spent great deal time internet conspiraci search kind inform someon intrud make wors action not necessari includ racism not return page',\n 'go fuck reason delet put articl chang said fals stupid',\n 'right bro right not hate block fagpleas',\n 'decemb utc apolog make rfc deserv thank c',\n 'wikipedia name wikifagia suck ball',\n 'christian also word english languag denot irreligi idea sad see word religi polit imagin disgust stuff move seminarian forgiv mammon christian forgiv throughout object lie need not prove christian ness plainli stand truth take stupid block amus',\n 'hello remov speedi delet templat user page intend go main space page sorri',\n 'dumbest shit ever meter went right scale talk page comment tip',\n 'sinc warn creat two nonsens articl matthew cross joshua hunt delet',\n 'publish sourc refer possibl find articl say produc briz isnt news articl rumour datin nicki whelan rumour not confirm articl either cant sourc',\n 'mother fuck son bich asshol',\n 'get start page',\n 'capit thing actual not bad grammer use titl need lesson teacher matt stiker lol j k serious though call peopl gay offend total nerd real life take call name oh well feel sorri wikipedia probabl action get besid creeper site visit',\n 'second diff not appear revert rejig lede collect seem current target',\n 'think revert revert',\n 'standahl man mousestach respond scare appropri feder agenc activ watch act',\n 'think fuck week',\n 'right code hit small runtim bug until find hope get hammer bot much problem get categori function aboslutli need bot use ad categori let know fix eagl talk desk',\n 'wtf ban person fourm said ban syria close name al asad al assad correct form al asad game said wrong went crazi say dumb stuff stupid right caus could find sourc confirm statement game ban syria asad assad common middl eastern name anyway',\n 'wreck wikipedia someth',\n 'novemb pleas stop continu vandal page block edit wikipedia',\n 'seriou call someon fag wors sever comment page horribl person say everyon post attack comment block gener dislik show record actual care peopl mad anoth admin total jerk person whose talk page post guy quit edit admin treat badli allow say think admin retard comment probabl bit profan truth behind',\n 'anytim glad thank take time likewis aug utc',\n 'actual becam interest edit short articl amid wikipedia invit us particip survey end novemb newspap flood burlesqu king nogral forc run nake hotel not wikipedian landmark acquitt suit publish took time edit ters nogral place nd counsel civil case atti henri r villarica higher ferdinand marco trim due marco blunder polit law subject en banc review test result villarica own pawnshop close friend busi assoc brother gold ha sta maria bulacan fight cock farm know ateneo law school nogral due bar rate nd place brilliant edit happen seen edit like controversi bio usa senat etc follow wikipedia pattern differ dant tinga nogral former clear court nogral issu censor public libel lawsuit vs nake run condemn court acquitt lack evid nogral acquitt best wikipedia evid go forth edit nogral bio nake thing rememb beatrix netherland ip address fiasco caught wiki scanner august queen beatrix royal famili affirm princ friso orang nassau wife princess mabel wiss smit edit entri wikipedia describ mabel relationship slain drug baron klaa bruinsma use queen palac comput chang found dutch media use wiki scanner entri state mabel provid incomplet fals inform bruinsma chang incomplet inform januari point tinga nogral irrespect court acquitt clearanc public bribe nog u p oblat run respect reliabl sourc licens us editor add thing short edit respect editor sinc matter style not judg lawyer not b commun editor like math editor would edit sentenc keep edit sentenc reason link die time due pay per view scholar reader wiki must provid choic read meat essenti ingredi also libel suit file nogral et al subject nake run nogral withdrew due affidavit desist complain not court decid base trial evid reason must edit least even sentenc essenti nake run ought final point not person know tinga hire lawyer santiago tinga fornier law offic handl simpl malolo case tinga becam congressman well known controversi judici notic ibp person ignor dougla anama text mate husband felipa borlongan anama assist clerk suprem court equival salari rank ca justic repeatedli approach consult dwarv due case tinga decid famili home tinga not one briberi thing ynare santiago nazario rememb ramo notabl contempt fine share pie point court would instead put rest issu fine contempt us editor follow pattern usa bio senat public figur henc edit well copi past wikipedia good articl sub section controversi cours due respect edit sorri tldr inform cheer',\n 'defamatori remark',\n 'shame get friend edit respons claim give tri get answer',\n 'get stub list get user page star war stub list not star war stub realli cheek peopl know ask peopl expand user page hour remov user page star war stub list user mil falcon pm st januari',\n 'first piss user pretend advis user detriment piss wow piss soooo fuck pig quit polit got admit not good enough sophist ear averag warmong anglo serb freemason think everyon buy bullshit lol',\n 'damn motherfuck disturb block contact facebook understand talk nonsens thing',\n 'david carradin realiz vandal accus vandal not construct',\n 'go ahead love hear bright idea oh wait coward nevermind f',\n 'not revert not option use copi past text store specif man grow extend ban year idgac',\n 'type cock mu mouth',\n 'stop leav comment ab blockin us ur talk show us ya',\n 'accus sockpuppetri author make sens know final come realiz wiki noth bunch american racist swear everyth power disrupt server',\n 'read materi listen ballad jamesbwatson inspir make poetri bizarr knob terribl bum snob simian loser malodor boozer boob fiend slob insan brat miscreant mule prat rube dog unscrupul hog mind redund fat putz mule fool goob tool brat goob bum rube creepi disgust cruel twit drunk snot obstin punk spaz sham androgyn ham pain schmuck skunk',\n 'debat final film subtitl tank call devast',\n 'not forum explan given writer ask question pointless',\n 'pretend anti fascist',\n 'kill parti soap kill parti',\n 'oh call rock idiot',\n 'seem pattern systemat violat polici say sorri gotten old',\n 'never found support environ speak aspir perhap rather realiti wikipedia meantim suggest remark petrikrohn fascist could misinterpret puzzl mean fuck lie fascist misinterpret pleas stop speciou humbug',\n 'dude shut fuck piss',\n 'februari utc mazza sourc section use imit christ',\n 'decemb utc ye seem solid back admin commun strang thing blog text look ok articl blog strang idea rave ufo toler not cours anoth question wikipedia entri blog problemat term copyright violat',\n 'ass neck virtual graffiti hmm seem close um not sure um wait ye ass neck hahah beyond fool',\n 'polici revert wiki way origin volum state issu date vol onward get mention ps pleas jump someon els ask question not scenario',\n 'gimm gimm want bastard know leav alon see court last thursday human gimm moar edit plz',\n 'messag jasonceyr f uc k hoe b c h want',\n 'yo one ugli dude',\n 'hahahaha backup dave hahahahaha report logo unnerv lot peopl even children due v crash screen poor music',\n 'could give hint could tri make sure address rewrit',\n 'atreu want inform relev atreu includ page vandal opinion',\n 'bulli nois evas oh petul silenc maneuvr',\n 'perhap perhap che pig',\n 'ye want way want way would written way go add someth articl add someth contribut inform not remov punctuat',\n 'ye keep track afghanistani polit never heard speak pashto know anyon ever heard speak pashto sometim watch parliament session satellit tv pashto speaker speak pashto never heard speak pashto',\n 'christian cage offici sign contract wwe th febuari',\n 'hey jeremi fuck fuck alan good know mother fuckng pussi protect get lfie empti threat fuck faggot fuck stickingyour bare unprotect dick within asshol fuck cocksuck scratch asshol condens moistur dirti rectum onto roof mouth give head',\n 'wendi get lost realli not everybodi share bigot view antonio quit frankli fucker compar mercado sexual babe ruth alcohol get fuck site',\n 'block cock sucker',\n 'pleas wait updat articl',\n 'someth might worth mention least consequ axiom choic shown impli axiom well tychonoff theorem exampl not sure one though',\n 'talk left messag delet content marti brennaman page would threaten ban wikipedia delet obviou bit vandal state marti brennaman took gun shot cub fan ridicul nonsens like threaten remov pleas explain toni',\n 'stupid fuck im famou subcrib youtub dont delet born mf stfu redirect redirect redirect redirect redirect redirect redirect redirect redirect categori categori categori categori categori categori',\n 'whatev say gay boy atleast life im not fuck unchang shit wikiepedia',\n 'wow pic wtf plastic surgeri expens bitch',\n 'not even wast time argu mental ill wiki pt',\n 'maimonid remark move templ mount major overhaul section jewish law regard entri tm talk',\n 'fuck half wit wikiwank set standard delusion',\n 'bitch ass che guevara love beaner',\n 'sorri unblock alreadi not intent accid',\n 'omg disput gay discuss omg bunch fuck nerd not argument weak impract youactual seem take serious recommend buy salt bitch lol stupid gay bitch',\n 'appear imposs move forward situat see recent work orladi',\n 'semiauto faggot note high rate homosexu among semiauto uzi owner versu true submachinegun owner',\n 'oh come not admin stop wast time permaban know situat chang',\n 'hello harri welcom wikipedia hope like place decid stay ever need edit help visit wikipedia one edit page format visit manual style experi wikipedia sandbox need pointer titl page visit wikipedia name convent question project check wikipedia help add question villag pump jun utc',\n 'hi zad yeah would awesom got pass fa current work brazil moment log updat userpag activ three month unfortun abl help hope goe well cheer',\n 'sad awesom glad guy gone doubt got life chang name appear less pathet guess',\n 'kansa bear not american work racist govern',\n 'nope not fuce think way not get away capich',\n 'sutton offic',\n 'violationg rule ridicul lame wikipedia site may concern mean made littl red fag hood cri boo like littl wimp dawn cock crow ban sad hear hear anymor rhoderedass not happi know red like cri till get way take high road quit quit done edit wow go miss place fri chicken mmmmmmm',\n 'fuck antisemit faggot',\n 'redirect talk boe b survivor',\n 'stop pseudo revert would like resolut particularli castro articl soon user imposs deal mar utc',\n 'point view understand got ban behaviour incl copyvio spam selfpromo among other probabl bad manner',\n 'alright anim manga almost noth except actual use littl trick never made probabl littl anim nerd go ad useless crap seri make squeal like girl think hammer space think warner brother cartoon think anim billion peopl know warner brother know bug bunni compani ad anyth anim manga unnecessari',\n 'almost certain confirm fuck',\n 'well present number document hidden serb author show not scorpion part serbian secur forec mup serbia also unit also show unit control belgrad order plan attack etc interest research document send e mail bosnian tv politicki magazin rtvfbih ba also want say person nick sockpuppet earlier know osli swedish serb keep deni genocid',\n 'obama not african american jackass afro european american stop report lie fake debat like scumbag mainstream media',\n 'mind yo damn buis',\n 'appropri word non nativ speaker english sometim need help syntax correct word thank help certain verb group peopl decid form new polit parti leav former parti case may correct verb issu exit leav renounc verb cheer',\n 'b b reason redirect articl invit letter b b visa although regard visa type redirect page address letterwhat goe etc furthermor consular section us embassi read post verifi accuraci purpos help peopl understand clarifi need includ letter redirect disservic',\n 'fuck stop vandalis stuff thank',\n 'prob bastard',\n 'answer either ye state librari congress not reliabl sourc',\n 'question squeez boob pop',\n 'cite mother',\n 'allow edit chang back left fact not opinion',\n 'sup teagger stop teabagg not teabag douch',\n 'describ modu operandi one self describ support democrat parti gamailiel year hone fine tune kraft bia steer snarki comment wield ban button one scare histori unquest hypocrisi known bound cadra meat puppet long histori own wp abus process power polit end plain state talk page readi fuck old school long run hurt wikipedia self due high stake natur game fact morel logic ethic leg stand',\n 'revel question mother nigger would explain alot ssing',\n 'reid damn good actor',\n 'yeah bust',\n 'truli hell hath ice cube defend jdogg joke juvenil ye beavi butthead southpark fan unit violat blp lighten moment josh say someth realli stupid',\n 'amus time thwart time plan world domin foil meddlesom interfer countless time escap last moment final butro mighti defeat crum space command swalwel long await gloriou triumph emperor univers secur dominion day long struggl littl amus clap jewel bedeck hand summon scantili clad danc girl pan galact slave harem destroy accurs vessel star abus iii melt slag galaxi greatest artisan forg grand tower statu statu even larger grander one toppl pin plinth day nearli destroy throne room statu stand grand ballroom great celesti palac cover gigant space tarp not fast crum not yet readi grand unveil captur traitor princess angela rebel alli spaceship tax evad immobil geo stationari orbit palac merest touch button activ astro deton delight assembl billion firework display like great butronian empir never seen princess angela may daughter not stop turn fellow wiki lover space dust even helplessli strap titanium space manacl wit say projecto screen gallant hello fair daughter feel lay eye doom ha ha ha ha ha see seiz puni earth friend boob lover helper guy chapman boy sidekick jayjg shall forc look gorg ecstasi failur destroy planet even see long discharg fang creatur carnivoron glass wall prison thu releas agoni wit victori first watch writh defeat not crum sure even slung titanium chain flame hate see right held blasto ray point robo legionnair bound display see jimbo wale rocket squad repturova talurnian walk lizard spi betray join weissu command valkyri war jet platoon last not least belov julian van august merest wave hypno scepter watch darl earth friend tumbl spell danc danc amus let sight seduct writh bodi contort view pleasur last thing crum see lower flame tear see tear eye brave crum also kown linda mack oh ho even sinist deprav dream would never imagin danc amus neh heh heh heh heh heh ha hahahaha gloriou last trumpet fanfar astro orchestra order curtain rais statu newli rebuilt star abus iv emerg gangplank crum herelf buddi jayjg activ hidden radio signal rocket squad burst free shrink robo legionnair noth transmut bracelet conceal manacl weissu swing mighti space mace smash control tortur devic hypno scepter forc grasp princ kazak magneto shooto beam julian van august run free await arm crum prison suspend flame hate emit telltal spark ear smoke android doubl drat noth simpl robo mannequin decoy aiyee spaceship gallant princess angela helm dive bomb great celesti palac billow cloud space smoke crowd run everywher kaff choke kaff kaff victori kaff slip finger kaff kaff kaff kaff curs crum kaff kaff curs kaff kaff forev kaff kaff kaff kaff end',\n 'measur unit squar mile peopl creat world output plu much larger reader plu home countri wikipedia hq use english system moreov english reader use metric',\n 'stop douchebag prick monkeynut',\n 'ip user state elsewher would refrain post messag talk page http en wikipedia org w index php titl user talk diff oldid',\n 'must small peni',\n 'whole articl suck ball becom articl day confus multipl time open whole thing reek pov tri balanc pov',\n 'commonwealth realm protect statu',\n 'articl unsourc statement saw articl put articl unsourc statement much fact writen old newspap site http countrystudi us south africa anyth done wrong someth not done pleas let know',\n 'nowher link provid see mpaa bbfc classif non notabl notabl enough wikipedia articl devot inform display promin begin almost preview advertis movi notabl inform includ uk us two largest english speak countri assert worldview bia',\n 'castrat roast testicl feed',\n 'fact wikipedian brought fold even though support opinion paedophil groom adolesc',\n 'not sure best',\n 'fuck bot fuck cluebot suck quit revert shit man faggot',\n 'evid requir accept claim pleas quot sourc order identifi report could also bf g trop captur damag state western desert late also g not come oper juli g not octob high altitud g mw inject howev oper sinc march april',\n 'rather troll north end south bound mule',\n 'hey mel want number suck geriatr cock big man yo like huh good girl tight ass petit frame need taught lesson',\n 'need care use logo organis televis channel guidelin refer not use logo fact refer bbc logo rather bbc one would like contact bbc ask whether use black version bbc one logo accept truli sort imag best',\n 'review hi notic ga review parathyroid gland biochemistri physiolog gland complic would think need ask wp medicin support stage review cours noth wrong ga review ask assist need would think articl would need includ account homeostat feedback also includ renal bone diseas primari hyperparathroid secondari hyperparathyroid tertiari hyperparathyroid',\n 'know entir law case report ntnood juli utc',\n 'serious hand tool',\n 'initi search part note go fuck',\n 'eat shithol eat shithol eat shithol eat shithol eat shithol eat shithol eat shithol eat shithol eat shithol eat shithol eat shithol eat shithol eat shithol eat shithol eat shithol eat shithol eat shithol eat shithol eat shithol eat shithol eat shithol eat shithol eat shithol eat shithol eat shithol eat shithol eat shithol eat shithol eat shithol eat shithol eat shithol eat shithol eat shithol eat shithol eat shithol eat shithol eat shithol eat shithol eat shithol eat shithol eat shithol eat shithol eat shithol eat shithol eat shithol eat shithol eat shithol eat shithol eat shithol eat shithol eat shithol eat shithol eat shithol eat shithol eat shithol eat shithol eat shithol eat shithol eat shithol eat shithol eat shithol eat shithol eat shithol eat shithol eat shithol eat shithol eat shithol eat shithol eat shithol eat shithol eat shithol eat shithol eat shithol eat shithol eat shithol eat shithol eat shithol eat shithol eat shithol eat shithol eat shithol eat shithol eat shithol eat shithol eat shithol eat shithol eat shithol eat shithol eat shithol eat shithol eat shithol eat shithol eat shithol eat shithol eat shithol eat shithol eat shithol eat shithol eat shithol eat shithol eat shithol eat shithol eat shithol eat shithol eat shithol eat shithol eat shithol eat shithol eat shithol eat shithol eat shithol eat shithol eat shithol eat shithol',\n 'well complain indianbio also want owner citi bcoz nobodi complain want owner articl ok not gona say anyth anyon even edit articl becom happi mr indianbio bcoz complet articl user ad video count commerci perform simpl articl review gosh unhappi english wanna tell edit window phone write like bcoz type cellphon tire write part talk page short kill finger write detail format link think good writer chang world bio write novel hehe indian ho indian raho',\n 'hey suppos take amphetamin launch kamikaz attack us carrier know lot work countless detail tri bite much one mouth crummi pc would crash happen confirm watchmen exampl relev',\n 'redirect talk civil unrest kenya present',\n 'ye may better candid keep mind point think one scan categori request unblock ad scan list would take half load',\n 'british peopl briton inhabit great britain citizen unit kingdom dont think ethnic race wobb haha you complet fuckin moron',\n 'march utc could call anoth mooreon idiot whose excus everi decept moor bush tell lie tooooo tattl anoth kid get troubl grade school dumbass anyth',\n 'see administr nasti rude uncivil mock demean like block editor block editor talk page editor say anyth back fear time ad block depart correct',\n 'unblock request wikieditor ale jrb could fuck block say someth talk page even wikipedia guidlin allow edit even block blatant vendetta intend let higher up know abus admin power unless unblock immedi thank',\n 'wow bet u feel like big man wikipedia caus block wont respond mayb u grow pair realis wikipedia usless real life espaeci paper use sourc fail get ur high hours man tri stop unwarr censorship get someon admit wrong warn ip',\n 'edit proof includ new pictur perhap old proof accompani pictur also think may need rephras light new illustr feb utc',\n 'hello mother fucker hijo edputa',\n 'sign forgot sign ya go fucker edit eat shit',\n 'suggest kill',\n 'hey chck repli talk page line absolut wrong seem like gang anti social self appoint taliban wp pleas get object',\n 'libel one mani done claim use socvk puppet claim done liar peddl person attack exactli allow edit wp let alon admin shame behaviour not come back ten year grown',\n 'block go fuck get remov file charg harass want go prison littl cunt',\n 'fuck gay get job quit argu peopl internet make cool ad shit make wors get fuck life',\n 'hammer son b',\n 'peopl site suck fuck ban go get readi usernam',\n 'giant oarfish edit hi instead complet revert edit like lazi prick perhap remov commentari instead lazi prick mention lazi prick oh lazi prick',\n 'edit oh man deserv rickk anti vandal barnstar one consist accur vandal fighter seen ever jmlk',\n 'dont know hongkonges dont appreci chines flag dumbass japanes hong kong rule hongkonges british retard japanes rule chines',\n 'nba final adam morrison annoy ruin peopl fun pleas stop delet edit page noth buzzkil piss peopl',\n 'thank read appreci review bullshit polici person attack thank entertain respons',\n 'sourc reliabl show decis victori german afraid much bia articl',\n 'etern pink name main guy crap manga evreryon think thing fuck rubbish kill manga one think make one think abl finish even start',\n 'read articl btw thank imo iirc forum board post not web page articl use',\n 'one cd song not make band gothic noth music gothic power metal',\n 'also chang made articl creat greater consist comprehens',\n 'hey djbullshit worri talk page lack one',\n 'wikipedian fuck wikipedian hehehheheh low life scum eh go get life instead act gay real man',\n 'indian subcontin thegreyanamoli say although afghanistan certain context considere south asian cannot consid part indian subcontin also persian list languag twice dari persian list separ dari form persian would accur write persian first articl wrote inform act vandal',\n 'problem leav',\n 'profession pedophil rapist cat',\n 'point extremist natur note term larg use bulgarian term use bulgarian give histor background make less like attack know',\n 'funni funni like funni stuff welcom wikipedia welcom help creat new content recent addit funni funni like funni stuff consid nonsens pleas refrain creat nonsens articl want test thing edit sandbox instead take look welcom page would like learn contribut encyclopedia',\n 'wp offic brandt hello regard wikipedia commun sanction noticeboard unblock daniel brandt would like request formal clarif whether jwale recent unblock board request wp offic oper made unblock author left request user page pretti high volum thing occasion get lost follow attempt determin whether administr consensu overturn unblock without creat risk foundat go wish board best regard',\n 'wow docu see realli enjoy find flaw everi singl think label peopl done label kittybrewst shown enough obstruct way peopl gni say whatev want not wikipedia therefor say want note never label anyon gni think docu look find anoth flaw way not attempt mani time like thank guy forget name argu kittybrewst first person bring intellig idea chang name proper spell also like thank goldman come great idea tri great idea bad everyon rude chang without see benefit',\n 'hey uw dawg dude delet comment oregon duck beat washington huski huski suck get crush duck everi year absolut asham delet oh well guess anoth butthurt huski fan team bad feel bad keep calm keep suck huski',\n 'piec f cking sh f ck like chang wikipedia back poophead',\n 'slimvirgin show racial insult use shut make sure know hell talk next time',\n 'import famili shall burn warn troll muzemik talk page slaughter sleep bye',\n 'user plant bruce peren groklaw revok right ban infiltr',\n 'not wast time wikipedia anymor wikipedia pay enough share wealth knowledg veterinarian practic year get write dog arbitrarili eras entir person without veterinari credenti second person defend vandal warn get ban know complet wast time feel like video game comput hack group academ care knowledg realli disappoint two peopl came onlin sorri thing happen say somebodi think want show citat gone',\n 'gay nigger gay nigger gay nigger associ america right give yor moneyz',\n 'pictur rob academ fraud wiki bulli boy',\n 'pleas dont fuck us',\n 'go fuck xd',\n 'convers confus talk vandal',\n 'fuck stalk edit',\n 'rememb rememb fifth mother truth neocon scum track watch brought light viva la revoluci n',\n 'ho bitch delet shit',\n 'thank intend add not delet know tild not wiki freak actual real life sorri',\n 'worthless piec shit must also knob gobbler',\n 'user jeppiz worship ball jesu son whore suck peni user decausa bastard',\n 'person want noth believ mani english italian editor would agre project ruin becom game extend warfar push nationalist idea wikipedia guy not even realiz',\n 'februari utc ssb wore sari attir play perform youth common practic india ssb alleg effeminaci differ lord krishna well known effemin seem problem whatsoev not answer question not believ alleg genit chang stori talk email',\n 'hack account go poop wikiz page go punch face',\n 'im gay like huge dick ass',\n 'profound respect observ discuss other relat culmin impact summar gold hat talk page perspect invit review complet respect dilig observ thought thing observ said rexx undoubtedli profici commun intent regard compel concern referenc former respect particip releg express past tens carri implic surplu good intent deed exhaust full valu upon singl incid not emerg suffici reason maintain respect even littl sir ask reconsid perspect consid two entitl emerg incid full measur former esteem not disregard mistak made simpli mean circumst not rise level loss respect appropri consider correct manner reflect word reflect insight easi answer pleas consid agre respect bit high consequ befit circumst',\n 'raja raja cholan call arunmozhi varman not arunmozhi thevar http book googl com book id fxek jljnsgc pg pa dq arun mozhi varman cholan hl en v onepag q arul mozhi varman f fals cast cathol christian languag convers social chang jeyaseela stephen page',\n 'though freind undo ur backstabb',\n 'believ expect prior account contain ampl exampl prior misbehaviour alreadi sick incess innuendo',\n 'socal deicis isnt worth shit',\n 'damn killer armenian damn killer armenian even not human kill burn women children damn',\n 'america america terrorist number one',\n 'redirect talk sweat monkey sex',\n 'nazi filth impolit jan utc',\n 'ok chang lead imag someth less explicit think still imag articl necessari illustr relev descript passag bodi articl without explicit also agre abridg select filmographi hope reach reason editori compromis leav everybodi happi articl user jaiwil',\n 'hey compliment canadian least not big dumbass aubernpilot queer',\n 'luckyloui goblinfac one keep undo edit engag edit war much',\n 'not think not sure good think cite person commun',\n 'lol whole massacr opinion fuck funni vtech kick yo',\n 'jonasan ye awkward straight forward random not discrimin not hypocrit republican believ republican christian valu band u favorit band love music not action proof barack obama muslim not express believ freedom speech right violat edit unit state america show form christian founder believ wikipedia not fair not edit show point view other jonasanrat',\n 'keep articl seem reason whitch articl kept still valid tooday also seem new form vandalisam progress nomin delet one respond day articl delet',\n 'maoririd defin not mentor suppos mente fallen crack seem get redwolf right head mentorship committe one mentor like',\n 'not follow around snadbox revert meaningless edit meaningless page',\n 'stupid administr vandal ever not unblock punish like teacher child year old avoid vandal not incompt resolv problem abus admin bye bye thank not wast time wikipedia wikipedia own admin lack life want exercis author virtual',\n 'link put forward argument http www webster onlin dictionari org definit serbian cite wikipedia sourc discuss accuraci wikipedia articl creat circl like say right right prove anyth miroslav radman croat member french academi scienc make french also not want start nationalist argument let us stay focus fact not revert articl sort thing agre andric croatian serbian writer issu ethnic articl serbian nation would write novel german would make german writer not german ethnic even would german nationalist not choos ethnic like not choos race someth born peopl mix ethnic not case not two nation one time btw thank tri improv work wikipedia read tip soon',\n 'itnc go fuck',\n 'dougiepooh previou editor comment improv articl naughti naughti dougi',\n 'pleas mean ban vandalis user page',\n 'also see user chang io screenshot window phone version',\n 'hope feel like shit delet post go fuck',\n 'excus call use kind languag',\n 'new articl wizard hey zman per discuss point creat wizard help new articl creation not know anyon els could swear seen somewher darn find anymor thank',\n 'call someon archetyp unscientif economist clearli ad hominem not relev articl school thought smear belong articl specif person smear want go road whole critic section could fill thing mainstream economist said austrian economist add anyth inform valu articl regard predict would remind whole section begin among other want without consider econom predict actual',\n 'hello b c h hello littl l u alway u c k isra c c k good keep happi dirti w h r e',\n 'shut anyth',\n 'idiot yeah block use action replay code diamond matur get life',\n 'pictur petestrument work better one hoodi',\n 'cluebot bias ole dosent allow opinion sinebot piss',\n 'problem stick nose belong not encourag troll enabl troll ultim not much differ see evid talk',\n 'love suck dead father',\n 'fuck wiki badg',\n 'ymblanter eat dick asshol way contribut user ymblanter misus power meet irl educ stupid mongoloid',\n 'redirect talk india hous london',\n 'climat pleas idiot suggest russel kansa humid subtrop climat way hell russel kansa could classifi humid subtrop either humid continent semi arid stepp would lean toward latter sinc part kansa not nearli humid not receiv near rainfal eastern half state kansa citywhich latitud russelli classifi humid continent earthli reason russel nearli five dere farther west longitud humid subtrop',\n 'spam block spam',\n 'ordinari slightli stupid ordinari peopl henc stupid articl full stupid fals info propaganda',\n 'wont answer question ive polit keep delet ill ive done ask entr topic devilman keep get delet',\n 'made chang fix grammar spell took away claim site coin term dcau sinc complain made articl appropri wikipedia probabl need work',\n 'apolog block anoth ip anger determin take reveng discov wife honest god african prostitut aid realiz noth could would make life wors marri virgin probabl die virgin like unicorn white night gold man thank much honestli',\n 'refactor not refactor comment disput past perhap like busi muck ot say object comment feel free bring appropri noticeboard not fuck thank',\n 'could kind suck dick',\n 'sorri make littl updat need discuss make updat thank sorri',\n 'eat go blow',\n 'prashant desai shirol india prashant desai b eng civil e pgdm mcmi london london base engin work railway grandson shrimant sardar dinkarrao desai also scion shirol base gharg desai deshmukh famili hold variou asset satara maharashtra kittur karnataka',\n 'sadli paranoid pharlap even exist wikipedia keep look shoulder tellin world give damn pharlap unhappi pharlap yo get clue imaginari friend pharlap took ball threw long buoyant trip short pier long time ago keep chase probabl think pharlap muahahahaha see ya around dcnois peac ya',\n 'wish restat thread neutral invit commun discuss realiz went far character ih dick apolog',\n 'delet person delet de wp singl purpos account establish reason not demand delet',\n 'answer tze dare contact friend administr andrew norman dare block carri discuss discuss page bosendorf would want propos modif peopl agenda like not want speak ask accomplic andrew norman unblock discuss openli discuss page bosendorf not page one bother read except accomplic andrew norman asham dishonest behaviour contact andrew norman andrew norman also asham use administr power decept help could say wikipedia shame first time use xxx wikipedia last get feedback bosendorf discuss page andrew norman accomplic unblock shame michaelisgreat',\n 'mol link one time error record',\n 'sockpuppet leav alon',\n 'wikipedia firearm project think new yorker allow gun shoot peopl like',\n 'cuz blakc sooooo ofenned',\n 'user sni raykyogr report break sever wikipedia rule warn delet talk section disguis use intimid intent enforc edit',\n 'thought thing rel inexperienc wiki sure chang titl move sinc not creat articl not want destroy someon els work',\n 'read comment left delet discuss page explain posit regard',\n 'dare accus author eric goertz articl want worldwid fame fuck asshol wish still hockey strike fuckhead go ahead tri get shit delet wikipedia bunch old fuck tri act scholarli matter know noth fuck would heard stori way except use wikipedia thought hope get palsi sit comput saliv women nhl photo day go ahead make day',\n 'rememb damn bastard happi dord block year right',\n 'defamatori prison garb pictur bia articl pictur orang prison jump suit hundr pictur avail choos worst one',\n 'hey wanker haha dick',\n 'mayb mayb look languag method other instead pick newbi',\n 'understand tri math not suppos anyth requir person judgement consid violat wp list sourc flaw mention methodolog full stop wikipedia work',\n 'also univers art http www art bg ac yu',\n 'hd radio websit supposedli date automat mean wsff broadcast hd radio actual hd radio tell wsff broadcast hd radio even contact wjj wjjx drop rhythmic format evid playlist main differ urban contemporari urban adult contemporari urban ac station tend stay away recent popular hip hop rap song even care wsnv go downhil case recent wvtf edit got inform station damn websit overal shut fuck giant prick',\n 'patient need doctor doctor also need patient suspect big question would ask physician found consult room empti think high time patient sought physician skill scienc art medicin left mr wess croni pointless circular discuss function disord nerv notion neurosi hope mr wess one day go akureyri visit grave children die hope contempl propog function disord marginalis distress children within school pick fellow pupil way children physic disabl even sever autism longer often even look mechan suppos protect children school psychiatr case rather suffer sever physic ill hope akureyri paus ask question perhap wrong would allow see glimmer humil task servic ask undertak us patient physician',\n 'respect request union crown understand wish voic say articl scottish relat pleas discuss disagr plung edit war point disagr first work kink idiosyncrasi unbecom attribut will hear talk page discuss',\n 'work delet bastard whether adher current rule not either rule chang sheer incompet come mere foul editor contribut',\n 'fuck asshol not act good faith vandal articl peopl like need out kick',\n 'appar wait long schumin delet volit',\n 'mother fuck piec shit',\n 'beauti']"
     },
     "execution_count": 384,
     "metadata": {},
     "output_type": "execute_result"
    }
   ],
   "source": [
    "corpus"
   ]
  },
  {
   "cell_type": "markdown",
   "metadata": {},
   "source": [
    "# Creating a Bage of words model"
   ]
  },
  {
   "cell_type": "code",
   "execution_count": 385,
   "metadata": {},
   "outputs": [],
   "source": [
    "from sklearn.feature_extraction.text import CountVectorizer\n",
    "cv = CountVectorizer(max_features=1500) ##1500 columns\n",
    "X = cv.fit_transform(corpus).toarray()\n",
    "y = dataset[\"Category\"]"
   ]
  },
  {
   "cell_type": "code",
   "execution_count": 386,
   "metadata": {},
   "outputs": [
    {
     "data": {
      "text/plain": "1500"
     },
     "execution_count": 386,
     "metadata": {},
     "output_type": "execute_result"
    }
   ],
   "source": [
    "len(X[0])  ## no. of col"
   ]
  },
  {
   "cell_type": "code",
   "execution_count": 387,
   "metadata": {},
   "outputs": [],
   "source": [
    "import pickle\n",
    "pickle.dump(cv, open('cvx.pkl', 'wb'))"
   ]
  },
  {
   "cell_type": "markdown",
   "metadata": {},
   "source": [
    "# Spliting the data"
   ]
  },
  {
   "cell_type": "code",
   "execution_count": 388,
   "metadata": {},
   "outputs": [
    {
     "data": {
      "text/plain": "((664, 1500), (167,))"
     },
     "execution_count": 388,
     "metadata": {},
     "output_type": "execute_result"
    }
   ],
   "source": [
    "from sklearn.model_selection import train_test_split\n",
    "X_train,X_test,y_train,y_test = train_test_split(X,y,test_size=0.2,random_state=0)\n",
    "X_train.shape , y_test.shape"
   ]
  },
  {
   "cell_type": "code",
   "execution_count": 389,
   "metadata": {},
   "outputs": [],
   "source": [
    "from sklearn.naive_bayes import GaussianNB,MultinomialNB\n",
    "classifier = GaussianNB().fit(X_train, y_train)\n",
    "cls = MultinomialNB().fit(X_train, y_train)"
   ]
  },
  {
   "cell_type": "code",
   "execution_count": 390,
   "metadata": {},
   "outputs": [
    {
     "data": {
      "text/plain": "0.7485029940119761"
     },
     "execution_count": 390,
     "metadata": {},
     "output_type": "execute_result"
    }
   ],
   "source": [
    "cls.score(X_test,y_test)"
   ]
  },
  {
   "cell_type": "code",
   "execution_count": 391,
   "metadata": {},
   "outputs": [
    {
     "data": {
      "text/plain": "0.562874251497006"
     },
     "execution_count": 391,
     "metadata": {},
     "output_type": "execute_result"
    }
   ],
   "source": [
    "classifier.score(X_test,y_test)"
   ]
  },
  {
   "cell_type": "code",
   "execution_count": 392,
   "metadata": {},
   "outputs": [
    {
     "data": {
      "text/plain": "pandas.core.series.Series"
     },
     "execution_count": 392,
     "metadata": {},
     "output_type": "execute_result"
    }
   ],
   "source": [
    "y_pred = cls.predict(X_test)\n",
    "type(y_test)"
   ]
  },
  {
   "cell_type": "code",
   "execution_count": 393,
   "metadata": {},
   "outputs": [
    {
     "name": "stdout",
     "output_type": "stream",
     "text": [
      "[[1 1]\n",
      " [0 0]\n",
      " [0 1]\n",
      " [1 1]\n",
      " [1 1]\n",
      " [0 0]\n",
      " [1 1]\n",
      " [0 0]\n",
      " [0 1]\n",
      " [0 0]\n",
      " [1 1]\n",
      " [0 0]\n",
      " [0 0]\n",
      " [0 0]\n",
      " [0 0]\n",
      " [0 0]\n",
      " [0 0]\n",
      " [1 1]\n",
      " [1 1]\n",
      " [1 0]\n",
      " [1 0]\n",
      " [0 0]\n",
      " [1 1]\n",
      " [0 0]\n",
      " [0 1]\n",
      " [1 1]\n",
      " [0 0]\n",
      " [1 1]\n",
      " [0 0]\n",
      " [0 0]\n",
      " [0 0]\n",
      " [0 0]\n",
      " [0 1]\n",
      " [1 0]\n",
      " [1 0]\n",
      " [0 0]\n",
      " [1 0]\n",
      " [0 0]\n",
      " [0 0]\n",
      " [0 1]\n",
      " [1 1]\n",
      " [0 0]\n",
      " [0 0]\n",
      " [1 1]\n",
      " [0 0]\n",
      " [1 0]\n",
      " [0 0]\n",
      " [0 0]\n",
      " [0 0]\n",
      " [0 0]\n",
      " [1 1]\n",
      " [0 0]\n",
      " [0 0]\n",
      " [0 0]\n",
      " [1 1]\n",
      " [0 1]\n",
      " [1 1]\n",
      " [0 0]\n",
      " [1 1]\n",
      " [0 1]\n",
      " [1 1]\n",
      " [0 1]\n",
      " [1 1]\n",
      " [0 0]\n",
      " [1 1]\n",
      " [1 1]\n",
      " [1 1]\n",
      " [0 0]\n",
      " [0 0]\n",
      " [1 1]\n",
      " [1 1]\n",
      " [0 1]\n",
      " [0 1]\n",
      " [1 1]\n",
      " [0 0]\n",
      " [1 1]\n",
      " [0 0]\n",
      " [1 0]\n",
      " [0 0]\n",
      " [1 1]\n",
      " [0 0]\n",
      " [0 0]\n",
      " [0 0]\n",
      " [0 0]\n",
      " [1 1]\n",
      " [0 1]\n",
      " [0 1]\n",
      " [1 0]\n",
      " [1 1]\n",
      " [1 1]\n",
      " [0 0]\n",
      " [1 1]\n",
      " [0 0]\n",
      " [1 0]\n",
      " [1 0]\n",
      " [1 1]\n",
      " [0 0]\n",
      " [0 0]\n",
      " [1 1]\n",
      " [0 1]\n",
      " [0 0]\n",
      " [1 1]\n",
      " [0 0]\n",
      " [0 0]\n",
      " [1 1]\n",
      " [0 0]\n",
      " [1 1]\n",
      " [0 1]\n",
      " [0 0]\n",
      " [1 1]\n",
      " [0 0]\n",
      " [0 0]\n",
      " [1 1]\n",
      " [1 1]\n",
      " [1 0]\n",
      " [1 1]\n",
      " [0 0]\n",
      " [0 0]\n",
      " [0 0]\n",
      " [0 0]\n",
      " [0 0]\n",
      " [1 1]\n",
      " [0 0]\n",
      " [1 0]\n",
      " [0 1]\n",
      " [1 1]\n",
      " [1 0]\n",
      " [0 0]\n",
      " [0 0]\n",
      " [1 1]\n",
      " [0 0]\n",
      " [0 1]\n",
      " [0 0]\n",
      " [0 0]\n",
      " [1 1]\n",
      " [1 1]\n",
      " [1 0]\n",
      " [0 0]\n",
      " [0 1]\n",
      " [0 0]\n",
      " [0 0]\n",
      " [0 0]\n",
      " [0 0]\n",
      " [0 0]\n",
      " [0 0]\n",
      " [1 1]\n",
      " [0 1]\n",
      " [1 0]\n",
      " [0 0]\n",
      " [0 1]\n",
      " [0 0]\n",
      " [0 1]\n",
      " [1 1]\n",
      " [1 0]\n",
      " [1 0]\n",
      " [0 1]\n",
      " [1 1]\n",
      " [1 0]\n",
      " [0 1]\n",
      " [0 0]\n",
      " [0 0]\n",
      " [0 0]\n",
      " [1 1]\n",
      " [1 0]\n",
      " [0 0]\n",
      " [1 1]\n",
      " [0 1]]\n"
     ]
    }
   ],
   "source": [
    "print(np.concatenate((y_pred.reshape(len(y_pred),1), np.array(y_test).reshape(len(y_test),1)),1))"
   ]
  },
  {
   "cell_type": "code",
   "execution_count": 394,
   "metadata": {},
   "outputs": [
    {
     "name": "stdout",
     "output_type": "stream",
     "text": [
      "[[76 19]\n",
      " [23 49]] 74.8502994011976\n"
     ]
    }
   ],
   "source": [
    "from sklearn.metrics import confusion_matrix,accuracy_score\n",
    "cm = confusion_matrix(y_test, y_pred)\n",
    "score = accuracy_score(y_test,y_pred)\n",
    "print(cm,score*100)"
   ]
  },
  {
   "cell_type": "code",
   "execution_count": 395,
   "metadata": {},
   "outputs": [
    {
     "data": {
      "text/plain": "pandas.core.series.Series"
     },
     "execution_count": 395,
     "metadata": {},
     "output_type": "execute_result"
    }
   ],
   "source": [
    "type(y_test)"
   ]
  },
  {
   "cell_type": "code",
   "execution_count": 396,
   "metadata": {},
   "outputs": [],
   "source": [
    "import pickle\n",
    "# Save trained model to file\n",
    "pickle.dump(cls, open(\"chatx.pkl\", \"wb\"))"
   ]
  },
  {
   "cell_type": "code",
   "execution_count": 397,
   "metadata": {},
   "outputs": [
    {
     "data": {
      "text/plain": "0.7485029940119761"
     },
     "execution_count": 397,
     "metadata": {},
     "output_type": "execute_result"
    }
   ],
   "source": [
    "loaded_model = pickle.load(open(\"chatx.pkl\", \"rb\"))\n",
    "loaded_model.predict(X_test)\n",
    "loaded_model.score(X_test,y_test)"
   ]
  },
  {
   "cell_type": "code",
   "execution_count": 398,
   "metadata": {},
   "outputs": [
    {
     "name": "stdout",
     "output_type": "stream",
     "text": [
      "(1, 1500)\n",
      "Cyberbullying\n"
     ]
    }
   ],
   "source": [
    "import pickle\n",
    "\n",
    "loaded_model = pickle.load(open(\"chatx.pkl\", \"rb\"))\n",
    "cv = pickle.load(open(\"cvx.pkl\",\"rb\"))\n",
    "\n",
    "def new_chat(new_chat):\n",
    "    new_chat = new_chat\n",
    "    new_chat = re.sub('[^a-zA-Z]', ' ', new_chat)\n",
    "    new_chat = new_chat.lower()\n",
    "    new_chat = new_chat.split()\n",
    "    ps = PorterStemmer()\n",
    "    all_stopwords = stopwords.words('english')\n",
    "    all_stopwords.remove('not')\n",
    "    new_chat = [ps.stem(word) for word in new_chat if not word in set(all_stopwords)]\n",
    "    new_chat = ' '.join(new_chat)\n",
    "    new_corpus = [new_chat]\n",
    "    new_X_test = cv.transform(new_corpus).toarray()\n",
    "    print(new_X_test.shape)\n",
    "    new_y_pred = loaded_model.predict(new_X_test)\n",
    "    return new_y_pred\n",
    "\n",
    "new_chat = new_chat(str(input(\"Enter statement...\")))\n",
    "if new_chat[0]==1:\n",
    "    print(\"Cyberbullying\")\n",
    "else :\n",
    "    print(\"Not Cyberbullying\")"
   ]
  },
  {
   "cell_type": "code",
   "execution_count": 398,
   "metadata": {},
   "outputs": [],
   "source": []
  }
 ],
 "metadata": {
  "kernelspec": {
   "display_name": "Python 3 (ipykernel)",
   "language": "python",
   "name": "python3"
  },
  "language_info": {
   "codemirror_mode": {
    "name": "ipython",
    "version": 3
   },
   "file_extension": ".py",
   "mimetype": "text/x-python",
   "name": "python",
   "nbconvert_exporter": "python",
   "pygments_lexer": "ipython3",
   "version": "3.9.7"
  }
 },
 "nbformat": 4,
 "nbformat_minor": 4
}